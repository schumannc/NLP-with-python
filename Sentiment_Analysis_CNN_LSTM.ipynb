{
  "nbformat": 4,
  "nbformat_minor": 0,
  "metadata": {
    "colab": {
      "name": "Análise_de_Sentimento_V2.ipynb",
      "version": "0.3.2",
      "provenance": [],
      "collapsed_sections": []
    },
    "language_info": {
      "codemirror_mode": {
        "name": "ipython",
        "version": 3
      },
      "file_extension": ".py",
      "mimetype": "text/x-python",
      "name": "python",
      "nbconvert_exporter": "python",
      "pygments_lexer": "ipython3",
      "version": "3.7.3"
    },
    "kernelspec": {
      "name": "python3",
      "display_name": "Python 3"
    },
    "accelerator": "GPU"
  },
  "cells": [
    {
      "cell_type": "code",
      "metadata": {
        "id": "LOoHuJ2iFzVa",
        "colab_type": "code",
        "colab": {}
      },
      "source": [
        "import pandas as pd\n",
        "import seaborn as sns\n",
        "import matplotlib.pyplot as plt\n",
        "sns.set()\n",
        "\n",
        "from joblib import dump, load"
      ],
      "execution_count": 0,
      "outputs": []
    },
    {
      "cell_type": "code",
      "metadata": {
        "id": "OdkRwbq_G3_A",
        "colab_type": "code",
        "outputId": "99a8ab6a-7852-4d35-e3a6-99fd80483554",
        "colab": {
          "base_uri": "https://localhost:8080/",
          "height": 34
        }
      },
      "source": [
        "from google.colab import drive\n",
        "drive.mount('/content/gdrive')"
      ],
      "execution_count": 0,
      "outputs": [
        {
          "output_type": "stream",
          "text": [
            "Drive already mounted at /content/gdrive; to attempt to forcibly remount, call drive.mount(\"/content/gdrive\", force_remount=True).\n"
          ],
          "name": "stdout"
        }
      ]
    },
    {
      "cell_type": "markdown",
      "metadata": {
        "id": "i7khdzq-FzVo",
        "colab_type": "text"
      },
      "source": [
        "# The Data\n",
        "\n",
        "\n",
        ">The Multi-Domain Sentiment Dataset contains product reviews taken from Amazon.com from many product types (domains). Some domains (books and dvds) have hundreds of thousands of reviews. Others (musical instruments) have only a few hundred. Reviews contain star ratings (1 to 5 stars) that can be converted into binary labels if needed. This page contains some descriptions about the data. If you have questions, please email Mark Dredze or John Blitzer. \n",
        "\n",
        "http://www.cs.jhu.edu/~mdredze/datasets/sentiment/"
      ]
    },
    {
      "cell_type": "markdown",
      "metadata": {
        "id": "QEqT0P0uFzVr",
        "colab_type": "raw"
      },
      "source": [
        "\"\"\"This script parse amazon books revies xml to a csv file\n",
        "parse_xml2csv()\n",
        "\"\"\"\n",
        "\n",
        "from tqdm import tqdm\n",
        "import csv\n",
        "\n",
        "def parse_xml2csv(): \n",
        "    dataset_file = './data/amazon_reviews/sorted_data/books/unlabeled.review'\n",
        "    output_file = './data/amazon_reviews/csv/books_reviews.csv'\n",
        "    \n",
        "    def _active_tag(tag):\n",
        "        if f'<{tag}>' in line:\n",
        "            rw[tag] = ''\n",
        "            return tag\n",
        "        elif f'</{tag}>' in line:\n",
        "            return '#end_tag#'\n",
        "    \n",
        "    # columns = ['product_name', 'rating', 'title', 'review_text']\n",
        "    columns = ['rating', 'review_text']\n",
        "    active_tag = None\n",
        "    \n",
        "    csvfile = open(output_file, 'w', newline='')\n",
        "    csvwriter = csv.DictWriter(csvfile, fieldnames=columns)\n",
        "    csvwriter.writeheader()\n",
        "    \n",
        "    with open(dataset_file, 'r', encoding='utf-8', errors='ignore') as fp:\n",
        "        for line in tqdm(fp):\n",
        "            if '<review>' in line:\n",
        "                rw = {}\n",
        "                continue\n",
        "            elif '</review>' in line:\n",
        "                csvwriter.writerow(rw)\n",
        "            \n",
        "            tags = map(_active_tag, columns)\n",
        "            tag = next((i for i in tags if i is not None), None)\n",
        "            \n",
        "            if tag == '#end_tag#':\n",
        "                rw[active_tag] = rw[active_tag].strip()\n",
        "                active_tag = None\n",
        "                continue\n",
        "            elif tag is not None:\n",
        "                active_tag = tag\n",
        "                continue\n",
        "            \n",
        "            if active_tag is not None:\n",
        "                rw[active_tag] += line\n",
        "    \n",
        "    csvfile.close()\n",
        "\n",
        "# Running the parser    \n",
        "parse_xml2csv()"
      ]
    },
    {
      "cell_type": "code",
      "metadata": {
        "id": "Cahir_nsFzVt",
        "colab_type": "code",
        "colab": {}
      },
      "source": [
        "csv_file = '../content/gdrive/My Drive/NLP-data/books_reviews.csv'\n",
        "df = pd.read_csv(csv_file)"
      ],
      "execution_count": 0,
      "outputs": []
    },
    {
      "cell_type": "code",
      "metadata": {
        "id": "DWrLHvq6FzV0",
        "colab_type": "code",
        "colab": {}
      },
      "source": [
        "df['rating'] = df['rating'].astype('category')"
      ],
      "execution_count": 0,
      "outputs": []
    },
    {
      "cell_type": "code",
      "metadata": {
        "id": "JrnWEzSDFzV7",
        "colab_type": "code",
        "outputId": "29c80f82-fa81-411a-e75c-5324a2cec761",
        "colab": {
          "base_uri": "https://localhost:8080/",
          "height": 136
        }
      },
      "source": [
        "df.info()"
      ],
      "execution_count": 0,
      "outputs": [
        {
          "output_type": "stream",
          "text": [
            "<class 'pandas.core.frame.DataFrame'>\n",
            "RangeIndex: 973194 entries, 0 to 973193\n",
            "Data columns (total 2 columns):\n",
            "rating         973194 non-null category\n",
            "review_text    973183 non-null object\n",
            "dtypes: category(1), object(1)\n",
            "memory usage: 8.4+ MB\n"
          ],
          "name": "stdout"
        }
      ]
    },
    {
      "cell_type": "code",
      "metadata": {
        "id": "cQDvumjKFzWF",
        "colab_type": "code",
        "outputId": "5ae11e8d-dbe6-41df-e4f5-43901f31847d",
        "colab": {
          "base_uri": "https://localhost:8080/",
          "height": 1000
        }
      },
      "source": [
        "df.head(100)"
      ],
      "execution_count": 0,
      "outputs": [
        {
          "output_type": "execute_result",
          "data": {
            "text/html": [
              "<div>\n",
              "<style scoped>\n",
              "    .dataframe tbody tr th:only-of-type {\n",
              "        vertical-align: middle;\n",
              "    }\n",
              "\n",
              "    .dataframe tbody tr th {\n",
              "        vertical-align: top;\n",
              "    }\n",
              "\n",
              "    .dataframe thead th {\n",
              "        text-align: right;\n",
              "    }\n",
              "</style>\n",
              "<table border=\"1\" class=\"dataframe\">\n",
              "  <thead>\n",
              "    <tr style=\"text-align: right;\">\n",
              "      <th></th>\n",
              "      <th>rating</th>\n",
              "      <th>review_text</th>\n",
              "    </tr>\n",
              "  </thead>\n",
              "  <tbody>\n",
              "    <tr>\n",
              "      <th>0</th>\n",
              "      <td>5.0</td>\n",
              "      <td>This all-Spanish handbook for parents with new...</td>\n",
              "    </tr>\n",
              "    <tr>\n",
              "      <th>1</th>\n",
              "      <td>5.0</td>\n",
              "      <td>McCarthy's writing and portrayal of Lester Bal...</td>\n",
              "    </tr>\n",
              "    <tr>\n",
              "      <th>2</th>\n",
              "      <td>2.0</td>\n",
              "      <td>Do you giggle uncontrollably when poking corps...</td>\n",
              "    </tr>\n",
              "    <tr>\n",
              "      <th>3</th>\n",
              "      <td>5.0</td>\n",
              "      <td>I was initiated into the world of Cormac McCar...</td>\n",
              "    </tr>\n",
              "    <tr>\n",
              "      <th>4</th>\n",
              "      <td>4.0</td>\n",
              "      <td>I cannot speak to the literary points in the n...</td>\n",
              "    </tr>\n",
              "    <tr>\n",
              "      <th>5</th>\n",
              "      <td>4.0</td>\n",
              "      <td>There is no denying the strain of Faulkner tha...</td>\n",
              "    </tr>\n",
              "    <tr>\n",
              "      <th>6</th>\n",
              "      <td>5.0</td>\n",
              "      <td>I have read sevral of McCarthy's other novels....</td>\n",
              "    </tr>\n",
              "    <tr>\n",
              "      <th>7</th>\n",
              "      <td>5.0</td>\n",
              "      <td>This is a gripping novel that probes the bread...</td>\n",
              "    </tr>\n",
              "    <tr>\n",
              "      <th>8</th>\n",
              "      <td>1.0</td>\n",
              "      <td>If you're considering buying the Peter Smith \"...</td>\n",
              "    </tr>\n",
              "    <tr>\n",
              "      <th>9</th>\n",
              "      <td>2.0</td>\n",
              "      <td>What I didn't realise when I ordered this is t...</td>\n",
              "    </tr>\n",
              "    <tr>\n",
              "      <th>10</th>\n",
              "      <td>1.0</td>\n",
              "      <td>\"Ha ha ha hah ha hah!\"  That's Stirling laughi...</td>\n",
              "    </tr>\n",
              "    <tr>\n",
              "      <th>11</th>\n",
              "      <td>5.0</td>\n",
              "      <td>The Protector's War (2005) is the second Alter...</td>\n",
              "    </tr>\n",
              "    <tr>\n",
              "      <th>12</th>\n",
              "      <td>2.0</td>\n",
              "      <td>I loved Stirling's \"Islands in the Sea of Time...</td>\n",
              "    </tr>\n",
              "    <tr>\n",
              "      <th>13</th>\n",
              "      <td>1.0</td>\n",
              "      <td>It completely sucked. Very long with nothing t...</td>\n",
              "    </tr>\n",
              "    <tr>\n",
              "      <th>14</th>\n",
              "      <td>2.0</td>\n",
              "      <td>I found that everytime I started getting to li...</td>\n",
              "    </tr>\n",
              "    <tr>\n",
              "      <th>15</th>\n",
              "      <td>4.0</td>\n",
              "      <td>Yet another fine effort from Stirling.  The fi...</td>\n",
              "    </tr>\n",
              "    <tr>\n",
              "      <th>16</th>\n",
              "      <td>4.0</td>\n",
              "      <td>Mr. Stirling has succeded again.  Protector's ...</td>\n",
              "    </tr>\n",
              "    <tr>\n",
              "      <th>17</th>\n",
              "      <td>1.0</td>\n",
              "      <td>While I enjoyed most of Dies the Fire, by the ...</td>\n",
              "    </tr>\n",
              "    <tr>\n",
              "      <th>18</th>\n",
              "      <td>5.0</td>\n",
              "      <td>Read this book!  I never thought a history boo...</td>\n",
              "    </tr>\n",
              "    <tr>\n",
              "      <th>19</th>\n",
              "      <td>4.0</td>\n",
              "      <td>Many reviewers have commented that Taylor's \"A...</td>\n",
              "    </tr>\n",
              "    <tr>\n",
              "      <th>20</th>\n",
              "      <td>4.0</td>\n",
              "      <td>The reviews of this book are greater entertain...</td>\n",
              "    </tr>\n",
              "    <tr>\n",
              "      <th>21</th>\n",
              "      <td>4.0</td>\n",
              "      <td>Has a pretentiousness to it that is sometimes ...</td>\n",
              "    </tr>\n",
              "    <tr>\n",
              "      <th>22</th>\n",
              "      <td>5.0</td>\n",
              "      <td>I found this book well researched and full of ...</td>\n",
              "    </tr>\n",
              "    <tr>\n",
              "      <th>23</th>\n",
              "      <td>5.0</td>\n",
              "      <td>We all learned the basics of colonial history ...</td>\n",
              "    </tr>\n",
              "    <tr>\n",
              "      <th>24</th>\n",
              "      <td>5.0</td>\n",
              "      <td>Traditionally, coverage of \"colonial America\" ...</td>\n",
              "    </tr>\n",
              "    <tr>\n",
              "      <th>25</th>\n",
              "      <td>5.0</td>\n",
              "      <td>Books like this are regrettably--but understan...</td>\n",
              "    </tr>\n",
              "    <tr>\n",
              "      <th>26</th>\n",
              "      <td>5.0</td>\n",
              "      <td>Taylor provides an extensive - 526 pages inclu...</td>\n",
              "    </tr>\n",
              "    <tr>\n",
              "      <th>27</th>\n",
              "      <td>5.0</td>\n",
              "      <td>The above is my favorite book and SLB conjured...</td>\n",
              "    </tr>\n",
              "    <tr>\n",
              "      <th>28</th>\n",
              "      <td>4.0</td>\n",
              "      <td>The story is quite compelling as it interweave...</td>\n",
              "    </tr>\n",
              "    <tr>\n",
              "      <th>29</th>\n",
              "      <td>5.0</td>\n",
              "      <td>I read this book 2 years ago, and I must say t...</td>\n",
              "    </tr>\n",
              "    <tr>\n",
              "      <th>...</th>\n",
              "      <td>...</td>\n",
              "      <td>...</td>\n",
              "    </tr>\n",
              "    <tr>\n",
              "      <th>70</th>\n",
              "      <td>5.0</td>\n",
              "      <td>A caveat to all Westerners who may think our m...</td>\n",
              "    </tr>\n",
              "    <tr>\n",
              "      <th>71</th>\n",
              "      <td>1.0</td>\n",
              "      <td>I'am unable to get this message to anyone.  Th...</td>\n",
              "    </tr>\n",
              "    <tr>\n",
              "      <th>72</th>\n",
              "      <td>5.0</td>\n",
              "      <td>Daniel Silva has taken his protaganist right o...</td>\n",
              "    </tr>\n",
              "    <tr>\n",
              "      <th>73</th>\n",
              "      <td>5.0</td>\n",
              "      <td>This is a timely, well written and exciting bo...</td>\n",
              "    </tr>\n",
              "    <tr>\n",
              "      <th>74</th>\n",
              "      <td>5.0</td>\n",
              "      <td>Love Silva's characters and plots. Only wish i...</td>\n",
              "    </tr>\n",
              "    <tr>\n",
              "      <th>75</th>\n",
              "      <td>5.0</td>\n",
              "      <td>I think this is a brilliant book. A great sele...</td>\n",
              "    </tr>\n",
              "    <tr>\n",
              "      <th>76</th>\n",
              "      <td>2.0</td>\n",
              "      <td>I read Bruner's book in one of my doctoral sem...</td>\n",
              "    </tr>\n",
              "    <tr>\n",
              "      <th>77</th>\n",
              "      <td>1.0</td>\n",
              "      <td>This is, by far, the worst book I have EVER be...</td>\n",
              "    </tr>\n",
              "    <tr>\n",
              "      <th>78</th>\n",
              "      <td>5.0</td>\n",
              "      <td>This book is a gift for readers. Maybe not all...</td>\n",
              "    </tr>\n",
              "    <tr>\n",
              "      <th>79</th>\n",
              "      <td>5.0</td>\n",
              "      <td>I don't know about you, but sometimes I stumbl...</td>\n",
              "    </tr>\n",
              "    <tr>\n",
              "      <th>80</th>\n",
              "      <td>5.0</td>\n",
              "      <td>Every year or so I re-read \"Heartburn,\" one of...</td>\n",
              "    </tr>\n",
              "    <tr>\n",
              "      <th>81</th>\n",
              "      <td>4.0</td>\n",
              "      <td>If I had it to do over again, I would have mad...</td>\n",
              "    </tr>\n",
              "    <tr>\n",
              "      <th>82</th>\n",
              "      <td>4.0</td>\n",
              "      <td>This book took a little getting used to (This ...</td>\n",
              "    </tr>\n",
              "    <tr>\n",
              "      <th>83</th>\n",
              "      <td>2.0</td>\n",
              "      <td>I didn't like this book.  Truth be told, I sti...</td>\n",
              "    </tr>\n",
              "    <tr>\n",
              "      <th>84</th>\n",
              "      <td>5.0</td>\n",
              "      <td>Nora crafted one of my all-time favorite books...</td>\n",
              "    </tr>\n",
              "    <tr>\n",
              "      <th>85</th>\n",
              "      <td>4.0</td>\n",
              "      <td>This is one of contemporary fictions first boo...</td>\n",
              "    </tr>\n",
              "    <tr>\n",
              "      <th>86</th>\n",
              "      <td>5.0</td>\n",
              "      <td>Now that our democratic system has been eroded...</td>\n",
              "    </tr>\n",
              "    <tr>\n",
              "      <th>87</th>\n",
              "      <td>5.0</td>\n",
              "      <td>I am unfortunately not suprised by any of the ...</td>\n",
              "    </tr>\n",
              "    <tr>\n",
              "      <th>88</th>\n",
              "      <td>5.0</td>\n",
              "      <td>This book is a terrific volume for understandi...</td>\n",
              "    </tr>\n",
              "    <tr>\n",
              "      <th>89</th>\n",
              "      <td>4.0</td>\n",
              "      <td>Actually, you can't according to Greg Palast w...</td>\n",
              "    </tr>\n",
              "    <tr>\n",
              "      <th>90</th>\n",
              "      <td>5.0</td>\n",
              "      <td>I read this book in record time.  Greg Palast ...</td>\n",
              "    </tr>\n",
              "    <tr>\n",
              "      <th>91</th>\n",
              "      <td>4.0</td>\n",
              "      <td>Palast bares it all. Put me through all 5 stag...</td>\n",
              "    </tr>\n",
              "    <tr>\n",
              "      <th>92</th>\n",
              "      <td>5.0</td>\n",
              "      <td>Greg Palast loves challenges.Bold and sarcasti...</td>\n",
              "    </tr>\n",
              "    <tr>\n",
              "      <th>93</th>\n",
              "      <td>5.0</td>\n",
              "      <td>The first time I read this book it was because...</td>\n",
              "    </tr>\n",
              "    <tr>\n",
              "      <th>94</th>\n",
              "      <td>4.0</td>\n",
              "      <td>Devour this book in small bites, or you're lik...</td>\n",
              "    </tr>\n",
              "    <tr>\n",
              "      <th>95</th>\n",
              "      <td>1.0</td>\n",
              "      <td>I heard all of these great things about this b...</td>\n",
              "    </tr>\n",
              "    <tr>\n",
              "      <th>96</th>\n",
              "      <td>1.0</td>\n",
              "      <td>I like to use the Amazon reviews when purchasi...</td>\n",
              "    </tr>\n",
              "    <tr>\n",
              "      <th>97</th>\n",
              "      <td>1.0</td>\n",
              "      <td>THis book was horrible.  If it was possible to...</td>\n",
              "    </tr>\n",
              "    <tr>\n",
              "      <th>98</th>\n",
              "      <td>1.0</td>\n",
              "      <td>If you like strange stories, you will love \"Ru...</td>\n",
              "    </tr>\n",
              "    <tr>\n",
              "      <th>99</th>\n",
              "      <td>4.0</td>\n",
              "      <td>How one child can overcome such a nightmarish ...</td>\n",
              "    </tr>\n",
              "  </tbody>\n",
              "</table>\n",
              "<p>100 rows × 2 columns</p>\n",
              "</div>"
            ],
            "text/plain": [
              "   rating                                        review_text\n",
              "0     5.0  This all-Spanish handbook for parents with new...\n",
              "1     5.0  McCarthy's writing and portrayal of Lester Bal...\n",
              "2     2.0  Do you giggle uncontrollably when poking corps...\n",
              "3     5.0  I was initiated into the world of Cormac McCar...\n",
              "4     4.0  I cannot speak to the literary points in the n...\n",
              "5     4.0  There is no denying the strain of Faulkner tha...\n",
              "6     5.0  I have read sevral of McCarthy's other novels....\n",
              "7     5.0  This is a gripping novel that probes the bread...\n",
              "8     1.0  If you're considering buying the Peter Smith \"...\n",
              "9     2.0  What I didn't realise when I ordered this is t...\n",
              "10    1.0  \"Ha ha ha hah ha hah!\"  That's Stirling laughi...\n",
              "11    5.0  The Protector's War (2005) is the second Alter...\n",
              "12    2.0  I loved Stirling's \"Islands in the Sea of Time...\n",
              "13    1.0  It completely sucked. Very long with nothing t...\n",
              "14    2.0  I found that everytime I started getting to li...\n",
              "15    4.0  Yet another fine effort from Stirling.  The fi...\n",
              "16    4.0  Mr. Stirling has succeded again.  Protector's ...\n",
              "17    1.0  While I enjoyed most of Dies the Fire, by the ...\n",
              "18    5.0  Read this book!  I never thought a history boo...\n",
              "19    4.0  Many reviewers have commented that Taylor's \"A...\n",
              "20    4.0  The reviews of this book are greater entertain...\n",
              "21    4.0  Has a pretentiousness to it that is sometimes ...\n",
              "22    5.0  I found this book well researched and full of ...\n",
              "23    5.0  We all learned the basics of colonial history ...\n",
              "24    5.0  Traditionally, coverage of \"colonial America\" ...\n",
              "25    5.0  Books like this are regrettably--but understan...\n",
              "26    5.0  Taylor provides an extensive - 526 pages inclu...\n",
              "27    5.0  The above is my favorite book and SLB conjured...\n",
              "28    4.0  The story is quite compelling as it interweave...\n",
              "29    5.0  I read this book 2 years ago, and I must say t...\n",
              "..    ...                                                ...\n",
              "70    5.0  A caveat to all Westerners who may think our m...\n",
              "71    1.0  I'am unable to get this message to anyone.  Th...\n",
              "72    5.0  Daniel Silva has taken his protaganist right o...\n",
              "73    5.0  This is a timely, well written and exciting bo...\n",
              "74    5.0  Love Silva's characters and plots. Only wish i...\n",
              "75    5.0  I think this is a brilliant book. A great sele...\n",
              "76    2.0  I read Bruner's book in one of my doctoral sem...\n",
              "77    1.0  This is, by far, the worst book I have EVER be...\n",
              "78    5.0  This book is a gift for readers. Maybe not all...\n",
              "79    5.0  I don't know about you, but sometimes I stumbl...\n",
              "80    5.0  Every year or so I re-read \"Heartburn,\" one of...\n",
              "81    4.0  If I had it to do over again, I would have mad...\n",
              "82    4.0  This book took a little getting used to (This ...\n",
              "83    2.0  I didn't like this book.  Truth be told, I sti...\n",
              "84    5.0  Nora crafted one of my all-time favorite books...\n",
              "85    4.0  This is one of contemporary fictions first boo...\n",
              "86    5.0  Now that our democratic system has been eroded...\n",
              "87    5.0  I am unfortunately not suprised by any of the ...\n",
              "88    5.0  This book is a terrific volume for understandi...\n",
              "89    4.0  Actually, you can't according to Greg Palast w...\n",
              "90    5.0  I read this book in record time.  Greg Palast ...\n",
              "91    4.0  Palast bares it all. Put me through all 5 stag...\n",
              "92    5.0  Greg Palast loves challenges.Bold and sarcasti...\n",
              "93    5.0  The first time I read this book it was because...\n",
              "94    4.0  Devour this book in small bites, or you're lik...\n",
              "95    1.0  I heard all of these great things about this b...\n",
              "96    1.0  I like to use the Amazon reviews when purchasi...\n",
              "97    1.0  THis book was horrible.  If it was possible to...\n",
              "98    1.0  If you like strange stories, you will love \"Ru...\n",
              "99    4.0  How one child can overcome such a nightmarish ...\n",
              "\n",
              "[100 rows x 2 columns]"
            ]
          },
          "metadata": {
            "tags": []
          },
          "execution_count": 6
        }
      ]
    },
    {
      "cell_type": "code",
      "metadata": {
        "hide_input": false,
        "id": "G6IPyFsgFzWM",
        "colab_type": "code",
        "outputId": "0a17dd89-3285-4c87-ad92-c34699982090",
        "colab": {
          "base_uri": "https://localhost:8080/",
          "height": 301
        }
      },
      "source": [
        "def plot_rating_dist(df, x='rating', title='Rating distribution', xlabel='stars', ylim=700000):\n",
        "    ax = sns.countplot(x=x, data=df)\n",
        "    ax.set_title(title)\n",
        "    ax.set_xlabel(xlabel)\n",
        "    for rect in ax.containers[0]:\n",
        "        tw = rect.get_width() / 2.\n",
        "        tx = rect.get_x() + tw\n",
        "        height = rect.get_height()\n",
        "        ty = 1.05 * height\n",
        "        ax.text(tx, ty, height, ha='center')\n",
        "\n",
        "    ax.set_ylim(0, ylim)\n",
        "    \n",
        "plot_rating_dist(df)"
      ],
      "execution_count": 0,
      "outputs": [
        {
          "output_type": "display_data",
          "data": {
            "image/png": "[encoded data removed]",
            "text/plain": [
              "<Figure size 432x288 with 1 Axes>"
            ]
          },
          "metadata": {
            "tags": []
          }
        }
      ]
    },
    {
      "cell_type": "code",
      "metadata": {
        "id": "UuGrPr4W6v-9",
        "colab_type": "code",
        "outputId": "acd70a8a-4ed1-43bc-fd2f-e0a88381bcec",
        "colab": {
          "base_uri": "https://localhost:8080/",
          "height": 170
        }
      },
      "source": [
        "# Sample to see words count per review\n",
        "df_ = df.iloc[:100000]\n",
        "words_counts = df_[df_['review_text'].str.len() > 10]['review_text'].str.split().apply(len)\n",
        "words_counts.describe()"
      ],
      "execution_count": 0,
      "outputs": [
        {
          "output_type": "execute_result",
          "data": {
            "text/plain": [
              "count    99987.000000\n",
              "mean       166.391191\n",
              "std        183.571081\n",
              "min          2.000000\n",
              "25%         59.000000\n",
              "50%        110.000000\n",
              "75%        206.000000\n",
              "max       5775.000000\n",
              "Name: review_text, dtype: float64"
            ]
          },
          "metadata": {
            "tags": []
          },
          "execution_count": 8
        }
      ]
    },
    {
      "cell_type": "code",
      "metadata": {
        "id": "0_4KuV0YFzWU",
        "colab_type": "code",
        "outputId": "0c57e5d6-1cfb-4cb2-ab11-7536cd3f5697",
        "colab": {
          "base_uri": "https://localhost:8080/",
          "height": 318
        }
      },
      "source": [
        "words_counts.plot.hist(bins=500, xlim=[0, 1000])\n",
        "plt.xlabel('nb words')\n",
        "plt.title('Words / Review')"
      ],
      "execution_count": 0,
      "outputs": [
        {
          "output_type": "execute_result",
          "data": {
            "text/plain": [
              "Text(0.5, 1.0, 'Words / Review')"
            ]
          },
          "metadata": {
            "tags": []
          },
          "execution_count": 9
        },
        {
          "output_type": "display_data",
          "data": {
            "image/png": "[encoded data removed]",
            "text/plain": [
              "<Figure size 432x288 with 1 Axes>"
            ]
          },
          "metadata": {
            "tags": []
          }
        }
      ]
    },
    {
      "cell_type": "code",
      "metadata": {
        "id": "7g_c6dlaFzWc",
        "colab_type": "code",
        "colab": {}
      },
      "source": [
        "def binary_labels(df, min_set=None):\n",
        " \n",
        "    # Cleanning data set\n",
        "    count = df['review_text'].str.len()\n",
        "    df = df[(count > 3) | (count < 4000)].copy()\n",
        "    \n",
        "    # Equilize dataset sample size\n",
        "    if min_set is None:\n",
        "        min_set = df['rating'].value_counts().min() * 4\n",
        "    \n",
        "    # Split rating 1.0, 2.0 as negative reviews\n",
        "    rating_1 = df[df['rating'] == 1.0].iloc[:min_set // 4]\n",
        "    rating_2 = df[df['rating'] == 2.0].iloc[:min_set // 4]\n",
        "    negative_reviews = pd.concat([rating_1, rating_2])\n",
        "    negative_reviews['label'] = 0\n",
        "    \n",
        "    # Split rating 4.0, 5.0 as positive reviews\n",
        "    rating_4 = df[df['rating'] == 4.0].iloc[:min_set // 4]\n",
        "    rating_5 = df[df['rating'] == 5.0].iloc[:min_set // 4]\n",
        "    positive_reviews = pd.concat([rating_4, rating_5])\n",
        "    positive_reviews['label'] = 1\n",
        "    \n",
        "    dataset = pd.concat([negative_reviews, positive_reviews])\n",
        "    dataset.sort_index(inplace=True)\n",
        "    \n",
        "    return dataset\n",
        "\n",
        "dataset = binary_labels(df,  min_set=50000)"
      ],
      "execution_count": 0,
      "outputs": []
    },
    {
      "cell_type": "code",
      "metadata": {
        "id": "onNqIPfA4hda",
        "colab_type": "code",
        "outputId": "6db4b9ac-37ab-4ef7-9f40-83177cfbae62",
        "colab": {
          "base_uri": "https://localhost:8080/",
          "height": 34
        }
      },
      "source": [
        "dump(dataset.index, '../content/gdrive/My Drive/NLP-data/dataset_index.joblib')"
      ],
      "execution_count": 0,
      "outputs": [
        {
          "output_type": "execute_result",
          "data": {
            "text/plain": [
              "['../content/gdrive/My Drive/NLP-data/dataset_index.joblib']"
            ]
          },
          "metadata": {
            "tags": []
          },
          "execution_count": 11
        }
      ]
    },
    {
      "cell_type": "code",
      "metadata": {
        "id": "AdrPisat0XDK",
        "colab_type": "code",
        "outputId": "75ba52d2-9d5c-4390-936b-3bcdf485f4ed",
        "colab": {
          "base_uri": "https://localhost:8080/",
          "height": 301
        }
      },
      "source": [
        "plot_rating_dist(dataset, ylim=30000)"
      ],
      "execution_count": 0,
      "outputs": [
        {
          "output_type": "display_data",
          "data": {
            "image/png": "[encoded data removed]",
            "text/plain": [
              "<Figure size 432x288 with 1 Axes>"
            ]
          },
          "metadata": {
            "tags": []
          }
        }
      ]
    },
    {
      "cell_type": "code",
      "metadata": {
        "id": "7Zbbv7WLzMvi",
        "colab_type": "code",
        "outputId": "2bbc0f4f-5329-4e96-a392-adbafe360ca0",
        "colab": {
          "base_uri": "https://localhost:8080/",
          "height": 335
        }
      },
      "source": [
        "texts = dataset['review_text'].astype(str)\n",
        "labels = dataset['label'].astype('int32')\n",
        "\n",
        "print('texts size: ', texts.size)\n",
        "print('labels size: ', labels.size)\n",
        "\n",
        "plot_rating_dist(pd.concat([texts, labels], axis=1), x='label', title='Equalized data set', xlabel='0-negative/1-positive', ylim=60000)"
      ],
      "execution_count": 0,
      "outputs": [
        {
          "output_type": "stream",
          "text": [
            "texts size:  50000\n",
            "labels size:  50000\n"
          ],
          "name": "stdout"
        },
        {
          "output_type": "display_data",
          "data": {
            "image/png": "[encoded data removed]",
            "text/plain": [
              "<Figure size 432x288 with 1 Axes>"
            ]
          },
          "metadata": {
            "tags": []
          }
        }
      ]
    },
    {
      "cell_type": "code",
      "metadata": {
        "id": "Bp6QSTr_s65n",
        "colab_type": "code",
        "outputId": "09c65ead-3d98-43df-9bf1-290d1896d66e",
        "colab": {
          "base_uri": "https://localhost:8080/",
          "height": 153
        }
      },
      "source": [
        "import pprint as pp\n",
        "\n",
        "sample = df[df['rating'] == 2].sample(1)\n",
        "pp.pprint(sample['review_text'].values[0])\n",
        "print('-'*100)\n",
        "print('Number of words: %d' % sample['review_text'].str.split().apply(len))\n",
        "print('Rating: %d stars' % sample['rating'].values[0])"
      ],
      "execution_count": 0,
      "outputs": [
        {
          "output_type": "stream",
          "text": [
            "('Seeing a few of the unrealistically rave reviews of this flawed novel '\n",
            " 'reminds me to remind everyone how tainted the amazon reader review process '\n",
            " \"is.  When anyone can review a book there's the chance that the authors \"\n",
            " 'publicist, best friend, next-door-neighbor, and even mother can write a '\n",
            " 'glowing review.  I\\'m always suspicious of \"best novel ever\" reviews..')\n",
            "----------------------------------------------------------------------------------------------------\n",
            "Number of words: 57\n",
            "Rating: 2 stars\n"
          ],
          "name": "stdout"
        }
      ]
    },
    {
      "cell_type": "markdown",
      "metadata": {
        "id": "lhzrOv4kFzWo",
        "colab_type": "text"
      },
      "source": [
        "# Pretrained Embedding Matrix\n",
        "GloVe embedding data can be found at:\n",
        "http://nlp.stanford.edu/data/glove.6B.zip\n",
        "(source page: http://nlp.stanford.edu/projects/glove/)"
      ]
    },
    {
      "cell_type": "code",
      "metadata": {
        "id": "1nZXxIPGFzWp",
        "colab_type": "code",
        "outputId": "317d38e7-f240-4af7-a806-f918122917b5",
        "colab": {
          "base_uri": "https://localhost:8080/",
          "height": 34
        }
      },
      "source": [
        "from nltk import word_tokenize\n",
        "import nltk\n",
        "import numpy as np\n",
        "\n",
        "from keras.layers import Embedding\n",
        "from keras.initializers import Constant\n",
        "from keras.preprocessing.sequence import pad_sequences"
      ],
      "execution_count": 0,
      "outputs": [
        {
          "output_type": "stream",
          "text": [
            "Using TensorFlow backend.\n"
          ],
          "name": "stderr"
        }
      ]
    },
    {
      "cell_type": "code",
      "metadata": {
        "id": "643ZDMedmFFc",
        "colab_type": "code",
        "colab": {}
      },
      "source": [
        "# Setting up the model\n",
        "\n",
        "MAX_NUM_WORDS = 20000\n",
        "MAX_SEQUENCE_LENGTH = 400\n",
        "EMBEDDING_DIM = 100\n",
        "VALIDATION_SPLIT = .1"
      ],
      "execution_count": 0,
      "outputs": []
    },
    {
      "cell_type": "code",
      "metadata": {
        "id": "3VlfDW6lFzWw",
        "colab_type": "code",
        "outputId": "50b375d9-80d7-4fdc-bff0-4df6ffc26b63",
        "colab": {
          "base_uri": "https://localhost:8080/",
          "height": 68
        }
      },
      "source": [
        "nltk.download('punkt')"
      ],
      "execution_count": 0,
      "outputs": [
        {
          "output_type": "stream",
          "text": [
            "[nltk_data] Downloading package punkt to /root/nltk_data...\n",
            "[nltk_data]   Package punkt is already up-to-date!\n"
          ],
          "name": "stdout"
        },
        {
          "output_type": "execute_result",
          "data": {
            "text/plain": [
              "True"
            ]
          },
          "metadata": {
            "tags": []
          },
          "execution_count": 17
        }
      ]
    },
    {
      "cell_type": "code",
      "metadata": {
        "id": "aawbRru3LKEW",
        "colab_type": "code",
        "outputId": "ca81e1cd-3838-441e-83e4-b9cdee1b6875",
        "colab": {
          "base_uri": "https://localhost:8080/",
          "height": 34
        }
      },
      "source": [
        "word_tokenize(\"I didn't like it\")"
      ],
      "execution_count": 0,
      "outputs": [
        {
          "output_type": "execute_result",
          "data": {
            "text/plain": [
              "['I', 'did', \"n't\", 'like', 'it']"
            ]
          },
          "metadata": {
            "tags": []
          },
          "execution_count": 18
        }
      ]
    },
    {
      "cell_type": "code",
      "metadata": {
        "id": "rdV5wzYrFzXE",
        "colab_type": "code",
        "colab": {}
      },
      "source": [
        "def read_glove_vecs(glove_file):\n",
        "    with open(glove_file, 'r') as f:\n",
        "        embeddings_vecs = {}\n",
        "        for line in f:\n",
        "            word, coefs = line.split(maxsplit=1)\n",
        "            coefs = np.fromstring(coefs, 'f', sep=' ')\n",
        "            embeddings_vecs[word] = coefs\n",
        "    \n",
        "    return embeddings_vecs"
      ],
      "execution_count": 0,
      "outputs": []
    },
    {
      "cell_type": "code",
      "metadata": {
        "id": "kwG2u6GNFzXI",
        "colab_type": "code",
        "outputId": "d3c2affa-ff39-44f2-877a-bef11e50d003",
        "colab": {
          "base_uri": "https://localhost:8080/",
          "height": 34
        }
      },
      "source": [
        "embeddings_vecs = read_glove_vecs('../content/gdrive/My Drive/NLP-data/glove.6B.100d.txt')\n",
        "\n",
        "print('Found %s word vectors.' % len(embeddings_vecs))"
      ],
      "execution_count": 0,
      "outputs": [
        {
          "output_type": "stream",
          "text": [
            "Found 400000 word vectors.\n"
          ],
          "name": "stdout"
        }
      ]
    },
    {
      "cell_type": "code",
      "metadata": {
        "cell_style": "center",
        "id": "0MA3UM9pFzXQ",
        "colab_type": "code",
        "outputId": "eaff2de5-c34e-4fa8-df0d-2fb44eedd7ad",
        "colab": {
          "base_uri": "https://localhost:8080/",
          "height": 34
        }
      },
      "source": [
        "# The tokenizer need to able to split contraction so don't -> ['do','n't']\n",
        "from scipy.spatial.distance import cosine\n",
        "\n",
        "assert \"don't\" not in embeddings_vecs\n",
        "\n",
        "word = {}\n",
        "word[\"n't\"] = embeddings_vecs[\"n't\"]\n",
        "word[\"not\"] = embeddings_vecs[\"not\"]\n",
        "\n",
        "print(\"Similarity between %s and %s is %f\" % (\"n't\", \"not\", 1 - cosine(word[\"n't\"], word[\"not\"])))"
      ],
      "execution_count": 0,
      "outputs": [
        {
          "output_type": "stream",
          "text": [
            "Similarity between n't and not is 0.901041\n"
          ],
          "name": "stdout"
        }
      ]
    },
    {
      "cell_type": "code",
      "metadata": {
        "id": "O9njD12SFzXe",
        "colab_type": "code",
        "outputId": "dc265b3d-2275-4712-8183-11315673ff82",
        "colab": {
          "base_uri": "https://localhost:8080/",
          "height": 34
        }
      },
      "source": [
        "# replace keras default tokenizer\n",
        "\n",
        "from keras_preprocessing import text\n",
        "\n",
        "def _text_to_word_sequence(text,\n",
        "                          filters='\"#$%&()*+,-./:;<=>?@[\\\\]^_`{|}~\\t\\n',\n",
        "                          lower=True, split=\" \"):\n",
        "    \n",
        "    text = text.lower()\n",
        "    \n",
        "    translate_dict = dict((c, split) for c in filters)\n",
        "    translate_map = str.maketrans(translate_dict)\n",
        "    text = text.translate(translate_map)\n",
        "    \n",
        "    seq = word_tokenize(text)\n",
        "    return [i for i in seq if i]\n",
        "\n",
        "text.text_to_word_sequence = _text_to_word_sequence\n",
        "\n",
        "tokenizer = text.Tokenizer(num_words=MAX_NUM_WORDS)\n",
        "tokenizer.fit_on_texts(texts)\n",
        "sequences = tokenizer.texts_to_sequences(texts)\n",
        "word_index = tokenizer.word_index\n",
        "\n",
        "print('Found %s unique tokens.' % len(word_index))"
      ],
      "execution_count": 0,
      "outputs": [
        {
          "output_type": "stream",
          "text": [
            "Found 87719 unique tokens.\n"
          ],
          "name": "stdout"
        }
      ]
    },
    {
      "cell_type": "code",
      "metadata": {
        "id": "9Bo4PMALmb5C",
        "colab_type": "code",
        "colab": {}
      },
      "source": [
        "data = pad_sequences(sequences, maxlen=MAX_SEQUENCE_LENGTH)"
      ],
      "execution_count": 0,
      "outputs": []
    },
    {
      "cell_type": "code",
      "metadata": {
        "id": "ex8D5E-u5BL5",
        "colab_type": "code",
        "outputId": "167a1c47-2427-4cad-d352-5de54ccd7e2b",
        "colab": {
          "base_uri": "https://localhost:8080/",
          "height": 159
        }
      },
      "source": [
        "pp.pprint(data[0].tolist(), width=200, compact=True)"
      ],
      "execution_count": 0,
      "outputs": [
        {
          "output_type": "stream",
          "text": [
            "[0, 0, 0, 0, 0, 0, 0, 0, 0, 0, 0, 0, 0, 0, 0, 0, 0, 0, 0, 0, 0, 0, 0, 0, 0, 0, 0, 0, 0, 0, 0, 0, 0, 0, 0, 0, 0, 0, 0, 0, 0, 0, 0, 0, 0, 0, 0, 0, 0, 0, 0, 0, 0, 0, 0, 0, 0, 0, 0, 0, 0, 0, 0, 0, 0, 0,\n",
            " 0, 0, 0, 0, 0, 0, 0, 0, 0, 0, 0, 0, 0, 0, 0, 0, 0, 0, 0, 0, 0, 0, 0, 0, 0, 0, 0, 0, 0, 0, 0, 0, 0, 0, 0, 0, 0, 0, 0, 0, 0, 0, 0, 0, 0, 0, 0, 0, 0, 0, 0, 0, 0, 0, 0, 0, 0, 0, 0, 0, 0, 0, 0, 0, 0, 0,\n",
            " 0, 0, 0, 0, 0, 0, 0, 0, 0, 0, 0, 0, 0, 0, 0, 0, 0, 0, 0, 0, 0, 0, 0, 0, 0, 0, 0, 0, 0, 0, 0, 0, 0, 0, 0, 0, 0, 0, 0, 0, 0, 0, 0, 0, 0, 0, 0, 0, 0, 0, 0, 0, 0, 0, 0, 0, 0, 0, 0, 0, 0, 0, 0, 0, 0, 0,\n",
            " 0, 0, 0, 0, 0, 0, 0, 0, 0, 0, 0, 0, 0, 0, 0, 0, 0, 0, 0, 0, 0, 0, 0, 0, 0, 0, 0, 0, 0, 0, 0, 0, 0, 0, 0, 0, 0, 0, 0, 0, 0, 0, 0, 0, 0, 0, 0, 0, 0, 0, 0, 0, 0, 0, 0, 0, 0, 0, 0, 0, 0, 0, 0, 0, 0, 0,\n",
            " 0, 0, 0, 0, 0, 0, 0, 0, 0, 0, 0, 0, 0, 0, 0, 0, 0, 0, 0, 0, 0, 0, 0, 0, 0, 0, 0, 0, 0, 0, 0, 0, 0, 0, 0, 0, 0, 0, 0, 0, 0, 0, 0, 0, 0, 0, 0, 0, 0, 0, 0, 0, 0, 0, 0, 0, 0, 0, 0, 0, 0, 0, 0, 0, 0, 0,\n",
            " 0, 0, 0, 0, 0, 0, 0, 0, 0, 0, 0, 0, 0, 0, 0, 0, 0, 0, 11, 34, 2483, 5266, 14, 661, 16, 107, 3226, 55, 1249, 1519, 14, 96, 1541, 32, 5, 385, 13, 870, 2325, 2438, 83, 8, 585, 1, 2483, 558, 529, 1519,\n",
            " 870, 172, 36, 5, 5193, 14, 661, 8, 1078, 392, 3, 113, 26, 5, 18461, 2, 96, 2483, 1676, 375, 16, 261]\n"
          ],
          "name": "stdout"
        }
      ]
    },
    {
      "cell_type": "code",
      "metadata": {
        "id": "O7jI4BDzFzXy",
        "colab_type": "code",
        "colab": {}
      },
      "source": [
        "def pretrained_embedding_matrix(embeddings_vecs, word_index):\n",
        "    \"\"\"\n",
        "    Build embedding matrix\n",
        "    \n",
        "    Params:\n",
        "    embeddings_vecs -- dict with words and its respective vectors {word: coefs}\n",
        "    word_index -- dict with words and its indexes\n",
        "    \n",
        "    Returns:\n",
        "    embedding_matrix -- numpy array shape (words in vocabulary, embedding dim)\n",
        "    \"\"\"\n",
        "    \n",
        "    num_words = min(MAX_NUM_WORDS, len(word_index)) + 1\n",
        "    \n",
        "    embedding_matrix = np.zeros((num_words, EMBEDDING_DIM))\n",
        "    \n",
        "    for word, i in word_index.items():\n",
        "        if i > MAX_NUM_WORDS:\n",
        "            break\n",
        "        embedding_vector = embeddings_vecs.get(word)\n",
        "        if embedding_vector is not None:\n",
        "            # words not found in embedding index will be all-zeros.\n",
        "            embedding_matrix[i] = embedding_vector\n",
        "\n",
        "    \n",
        "    return embedding_matrix"
      ],
      "execution_count": 0,
      "outputs": []
    },
    {
      "cell_type": "code",
      "metadata": {
        "id": "mMiv4Yk6pki_",
        "colab_type": "code",
        "colab": {}
      },
      "source": [
        "embedding_matrix = pretrained_embedding_matrix(embeddings_vecs, word_index)"
      ],
      "execution_count": 0,
      "outputs": []
    },
    {
      "cell_type": "code",
      "metadata": {
        "id": "9g7T5gEc5qZe",
        "colab_type": "code",
        "outputId": "0a974cdd-d88a-445a-d147-f4948e2dd320",
        "colab": {
          "base_uri": "https://localhost:8080/",
          "height": 34
        }
      },
      "source": [
        "embedding_matrix.shape"
      ],
      "execution_count": 0,
      "outputs": [
        {
          "output_type": "execute_result",
          "data": {
            "text/plain": [
              "(20001, 100)"
            ]
          },
          "metadata": {
            "tags": []
          },
          "execution_count": 29
        }
      ]
    },
    {
      "cell_type": "code",
      "metadata": {
        "id": "FSglNAEfFzX8",
        "colab_type": "code",
        "colab": {}
      },
      "source": [
        "# Split the date into train and validation sets\n",
        "num_validation_samples = int(VALIDATION_SPLIT * data.shape[0])\n",
        "\n",
        "X_train = data[:-num_validation_samples]\n",
        "y_train = labels[:-num_validation_samples]\n",
        "X_val = data[-num_validation_samples:]\n",
        "y_val = labels[-num_validation_samples:]"
      ],
      "execution_count": 0,
      "outputs": []
    },
    {
      "cell_type": "code",
      "metadata": {
        "id": "tq8BMi7dFzYA",
        "colab_type": "code",
        "outputId": "ed0e30e9-4aeb-4b41-c9aa-09c930021751",
        "colab": {
          "base_uri": "https://localhost:8080/",
          "height": 86
        }
      },
      "source": [
        "print('X_train shape:', X_train.shape)\n",
        "print('X_val shape:', X_val.shape)\n",
        "print('y_train shape:', y_train.shape, 'type', y_train.dtype)\n",
        "print('y_val shape:', y_val.shape, 'type', y_val.dtype)"
      ],
      "execution_count": 0,
      "outputs": [
        {
          "output_type": "stream",
          "text": [
            "X_train shape: (45000, 400)\n",
            "X_val shape: (5000, 400)\n",
            "y_train shape: (45000,) type int32\n",
            "y_val shape: (5000,) type int32\n"
          ],
          "name": "stdout"
        }
      ]
    },
    {
      "cell_type": "markdown",
      "metadata": {
        "id": "H7BlfDJPpYlh",
        "colab_type": "text"
      },
      "source": [
        "# Keras CNN model\n",
        "1D convnet with global maxpooling"
      ]
    },
    {
      "cell_type": "code",
      "metadata": {
        "id": "6t0xbvT8pppJ",
        "colab_type": "code",
        "colab": {}
      },
      "source": [
        "from keras.layers import Dense, GlobalMaxPooling1D\n",
        "from keras.layers import Conv1D, MaxPooling1D, Embedding, Input\n",
        "from keras.models import Model\n",
        "from keras.initializers import Constant\n",
        "\n",
        "from keras.callbacks import ModelCheckpoint\n",
        "from keras import backend as K"
      ],
      "execution_count": 0,
      "outputs": []
    },
    {
      "cell_type": "code",
      "metadata": {
        "id": "PJvJeMqUJUst",
        "colab_type": "code",
        "outputId": "90dce6cc-a11c-4ccb-d3f6-220e4a8361e4",
        "colab": {
          "base_uri": "https://localhost:8080/",
          "height": 159
        }
      },
      "source": [
        "K.clear_session()"
      ],
      "execution_count": 0,
      "outputs": [
        {
          "output_type": "stream",
          "text": [
            "WARNING: Logging before flag parsing goes to stderr.\n",
            "W0706 00:29:41.306179 140513222641536 deprecation_wrapper.py:119] From /usr/local/lib/python3.6/dist-packages/keras/backend/tensorflow_backend.py:95: The name tf.reset_default_graph is deprecated. Please use tf.compat.v1.reset_default_graph instead.\n",
            "\n",
            "W0706 00:29:41.308264 140513222641536 deprecation_wrapper.py:119] From /usr/local/lib/python3.6/dist-packages/keras/backend/tensorflow_backend.py:98: The name tf.placeholder_with_default is deprecated. Please use tf.compat.v1.placeholder_with_default instead.\n",
            "\n",
            "W0706 00:29:41.327854 140513222641536 deprecation_wrapper.py:119] From /usr/local/lib/python3.6/dist-packages/keras/backend/tensorflow_backend.py:102: The name tf.get_default_graph is deprecated. Please use tf.compat.v1.get_default_graph instead.\n",
            "\n"
          ],
          "name": "stderr"
        }
      ]
    },
    {
      "cell_type": "code",
      "metadata": {
        "id": "TzceWutkpfam",
        "colab_type": "code",
        "colab": {}
      },
      "source": [
        "def cnn_model(embedding_matrix):\n",
        "    sequence_input = Input(shape=(MAX_SEQUENCE_LENGTH,), dtype='int32')\n",
        "    \n",
        "    num_words = embedding_matrix.shape[0]\n",
        "    embedding_layer = Embedding(num_words,\n",
        "                                EMBEDDING_DIM,\n",
        "                                embeddings_initializer=Constant(embedding_matrix),\n",
        "                                input_length=MAX_SEQUENCE_LENGTH,\n",
        "                                trainable=False,\n",
        "                                mask_zero=False) \n",
        "    \n",
        "    embedded_sequences = embedding_layer(sequence_input)\n",
        "    \n",
        "    X = Conv1D(128, 5, activation='relu')(embedded_sequences)\n",
        "    X = MaxPooling1D(5)(X)\n",
        "    X = Conv1D(128, 5, activation='relu')(X)\n",
        "    X = MaxPooling1D(5)(X)\n",
        "    X = Conv1D(128, 5, activation='relu')(X)\n",
        "    X = GlobalMaxPooling1D()(X)\n",
        "    X = Dense(128, activation='relu')(X)\n",
        "    preds = Dense(1, activation='sigmoid')(X)\n",
        "\n",
        "    model = Model(sequence_input, preds)\n",
        "    \n",
        "    return model\n"
      ],
      "execution_count": 0,
      "outputs": []
    },
    {
      "cell_type": "code",
      "metadata": {
        "id": "rwODpL6O-hxD",
        "colab_type": "code",
        "colab": {}
      },
      "source": [
        "# Callbacks\n",
        "checkpoint = ModelCheckpoint(filepath='../content/gdrive/My Drive/NLP-data/CNN_model_weights.{epoch:02d}-{val_acc:.2f}.hdf5',\n",
        "                             monitor='val_acc', \n",
        "                             mode='max', \n",
        "                             verbose=1, \n",
        "                             save_best_only=True)"
      ],
      "execution_count": 0,
      "outputs": []
    },
    {
      "cell_type": "code",
      "metadata": {
        "id": "tQJ43ws6sgnq",
        "colab_type": "code",
        "outputId": "8acf17db-9b3f-412f-f9e6-d7bbef546086",
        "colab": {
          "base_uri": "https://localhost:8080/",
          "height": 610
        }
      },
      "source": [
        "model = cnn_model(embedding_matrix)\n",
        "model.summary()"
      ],
      "execution_count": 0,
      "outputs": [
        {
          "output_type": "stream",
          "text": [
            "W0706 00:29:46.797476 140513222641536 deprecation_wrapper.py:119] From /usr/local/lib/python3.6/dist-packages/keras/backend/tensorflow_backend.py:517: The name tf.placeholder is deprecated. Please use tf.compat.v1.placeholder instead.\n",
            "\n",
            "W0706 00:29:46.856213 140513222641536 deprecation_wrapper.py:119] From /usr/local/lib/python3.6/dist-packages/keras/backend/tensorflow_backend.py:4138: The name tf.random_uniform is deprecated. Please use tf.random.uniform instead.\n",
            "\n",
            "W0706 00:29:46.893971 140513222641536 deprecation_wrapper.py:119] From /usr/local/lib/python3.6/dist-packages/keras/backend/tensorflow_backend.py:3976: The name tf.nn.max_pool is deprecated. Please use tf.nn.max_pool2d instead.\n",
            "\n"
          ],
          "name": "stderr"
        },
        {
          "output_type": "stream",
          "text": [
            "_________________________________________________________________\n",
            "Layer (type)                 Output Shape              Param #   \n",
            "=================================================================\n",
            "input_1 (InputLayer)         (None, 400)               0         \n",
            "_________________________________________________________________\n",
            "embedding_1 (Embedding)      (None, 400, 100)          2000100   \n",
            "_________________________________________________________________\n",
            "conv1d_1 (Conv1D)            (None, 396, 128)          64128     \n",
            "_________________________________________________________________\n",
            "max_pooling1d_1 (MaxPooling1 (None, 79, 128)           0         \n",
            "_________________________________________________________________\n",
            "conv1d_2 (Conv1D)            (None, 75, 128)           82048     \n",
            "_________________________________________________________________\n",
            "max_pooling1d_2 (MaxPooling1 (None, 15, 128)           0         \n",
            "_________________________________________________________________\n",
            "conv1d_3 (Conv1D)            (None, 11, 128)           82048     \n",
            "_________________________________________________________________\n",
            "global_max_pooling1d_1 (Glob (None, 128)               0         \n",
            "_________________________________________________________________\n",
            "dense_1 (Dense)              (None, 128)               16512     \n",
            "_________________________________________________________________\n",
            "dense_2 (Dense)              (None, 1)                 129       \n",
            "=================================================================\n",
            "Total params: 2,244,965\n",
            "Trainable params: 244,865\n",
            "Non-trainable params: 2,000,100\n",
            "_________________________________________________________________\n"
          ],
          "name": "stdout"
        }
      ]
    },
    {
      "cell_type": "code",
      "metadata": {
        "id": "NGg-iVLcsjdS",
        "colab_type": "code",
        "outputId": "41a5f96e-705c-4f56-ceb1-a6d23d1d6068",
        "colab": {
          "base_uri": "https://localhost:8080/",
          "height": 124
        }
      },
      "source": [
        "model.compile(loss='binary_crossentropy', optimizer='adam', metrics=['accuracy'])"
      ],
      "execution_count": 0,
      "outputs": [
        {
          "output_type": "stream",
          "text": [
            "W0706 00:29:51.099386 140513222641536 deprecation_wrapper.py:119] From /usr/local/lib/python3.6/dist-packages/keras/optimizers.py:790: The name tf.train.Optimizer is deprecated. Please use tf.compat.v1.train.Optimizer instead.\n",
            "\n",
            "W0706 00:29:51.126637 140513222641536 deprecation.py:323] From /usr/local/lib/python3.6/dist-packages/tensorflow/python/ops/nn_impl.py:180: add_dispatch_support.<locals>.wrapper (from tensorflow.python.ops.array_ops) is deprecated and will be removed in a future version.\n",
            "Instructions for updating:\n",
            "Use tf.where in 2.0, which has the same broadcast rule as np.where\n"
          ],
          "name": "stderr"
        }
      ]
    },
    {
      "cell_type": "code",
      "metadata": {
        "id": "GJ6EZIbGuN1w",
        "colab_type": "code",
        "outputId": "5d734d58-b8d6-461f-b95d-e01ef26822f2",
        "colab": {
          "base_uri": "https://localhost:8080/",
          "height": 1000
        }
      },
      "source": [
        "%%time\n",
        "\n",
        "history = model.fit(X_train, y_train,\n",
        "                    batch_size=128,\n",
        "                    epochs=15,\n",
        "                    validation_data=(X_val, y_val),\n",
        "                    callbacks=[checkpoint])"
      ],
      "execution_count": 0,
      "outputs": [
        {
          "output_type": "stream",
          "text": [
            "Train on 45000 samples, validate on 5000 samples\n",
            "Epoch 1/15\n",
            "45000/45000 [==============================] - 10s 214us/step - loss: 0.5210 - acc: 0.7298 - val_loss: 0.3923 - val_acc: 0.8354\n",
            "\n",
            "Epoch 00001: val_acc improved from -inf to 0.83540, saving model to ../content/gdrive/My Drive/NLP-data/CNN_model_weights.01-0.84.hdf5\n",
            "Epoch 2/15\n",
            "45000/45000 [==============================] - 4s 94us/step - loss: 0.3197 - acc: 0.8659 - val_loss: 0.3743 - val_acc: 0.8476\n",
            "\n",
            "Epoch 00002: val_acc improved from 0.83540 to 0.84760, saving model to ../content/gdrive/My Drive/NLP-data/CNN_model_weights.02-0.85.hdf5\n",
            "Epoch 3/15\n",
            "45000/45000 [==============================] - 4s 96us/step - loss: 0.2175 - acc: 0.9155 - val_loss: 0.7036 - val_acc: 0.7208\n",
            "\n",
            "Epoch 00003: val_acc did not improve from 0.84760\n",
            "Epoch 4/15\n",
            "45000/45000 [==============================] - 4s 93us/step - loss: 0.1431 - acc: 0.9474 - val_loss: 0.7984 - val_acc: 0.7250\n",
            "\n",
            "Epoch 00004: val_acc did not improve from 0.84760\n",
            "Epoch 5/15\n",
            "45000/45000 [==============================] - 4s 92us/step - loss: 0.0904 - acc: 0.9669 - val_loss: 0.3480 - val_acc: 0.8832\n",
            "\n",
            "Epoch 00005: val_acc improved from 0.84760 to 0.88320, saving model to ../content/gdrive/My Drive/NLP-data/CNN_model_weights.05-0.88.hdf5\n",
            "Epoch 6/15\n",
            "45000/45000 [==============================] - 4s 97us/step - loss: 0.0591 - acc: 0.9787 - val_loss: 0.8793 - val_acc: 0.7884\n",
            "\n",
            "Epoch 00006: val_acc did not improve from 0.88320\n",
            "Epoch 7/15\n",
            "45000/45000 [==============================] - 4s 94us/step - loss: 0.0484 - acc: 0.9822 - val_loss: 0.9257 - val_acc: 0.7944\n",
            "\n",
            "Epoch 00007: val_acc did not improve from 0.88320\n",
            "Epoch 8/15\n",
            "45000/45000 [==============================] - 4s 92us/step - loss: 0.0605 - acc: 0.9783 - val_loss: 0.8391 - val_acc: 0.8072\n",
            "\n",
            "Epoch 00008: val_acc did not improve from 0.88320\n",
            "Epoch 9/15\n",
            "45000/45000 [==============================] - 4s 93us/step - loss: 0.0291 - acc: 0.9896 - val_loss: 0.5641 - val_acc: 0.8734\n",
            "\n",
            "Epoch 00009: val_acc did not improve from 0.88320\n",
            "Epoch 10/15\n",
            "45000/45000 [==============================] - 4s 93us/step - loss: 0.0297 - acc: 0.9890 - val_loss: 1.5725 - val_acc: 0.7408\n",
            "\n",
            "Epoch 00010: val_acc did not improve from 0.88320\n",
            "Epoch 11/15\n",
            "45000/45000 [==============================] - 4s 92us/step - loss: 0.0390 - acc: 0.9856 - val_loss: 0.5748 - val_acc: 0.8736\n",
            "\n",
            "Epoch 00011: val_acc did not improve from 0.88320\n",
            "Epoch 12/15\n",
            "45000/45000 [==============================] - 4s 92us/step - loss: 0.0302 - acc: 0.9888 - val_loss: 0.9891 - val_acc: 0.8128\n",
            "\n",
            "Epoch 00012: val_acc did not improve from 0.88320\n",
            "Epoch 13/15\n",
            "45000/45000 [==============================] - 4s 93us/step - loss: 0.0265 - acc: 0.9905 - val_loss: 0.6690 - val_acc: 0.8696\n",
            "\n",
            "Epoch 00013: val_acc did not improve from 0.88320\n",
            "Epoch 14/15\n",
            "45000/45000 [==============================] - 4s 93us/step - loss: 0.0302 - acc: 0.9895 - val_loss: 0.6281 - val_acc: 0.8660\n",
            "\n",
            "Epoch 00014: val_acc did not improve from 0.88320\n",
            "Epoch 15/15\n",
            "45000/45000 [==============================] - 4s 92us/step - loss: 0.0252 - acc: 0.9910 - val_loss: 0.8493 - val_acc: 0.8422\n",
            "\n",
            "Epoch 00015: val_acc did not improve from 0.88320\n",
            "CPU times: user 57 s, sys: 13.9 s, total: 1min 10s\n",
            "Wall time: 1min 15s\n"
          ],
          "name": "stdout"
        }
      ]
    },
    {
      "cell_type": "code",
      "metadata": {
        "id": "qV91WT6sFzYc",
        "colab_type": "code",
        "colab": {}
      },
      "source": [
        "def plot_results(history):\n",
        "    # Plot training & validation accuracy values\n",
        "    plt.plot(history.history['acc'])\n",
        "    plt.plot(history.history['val_acc'])\n",
        "    plt.title('Model accuracy')\n",
        "    plt.ylabel('Accuracy')\n",
        "    plt.xlabel('Epoch')\n",
        "    plt.legend(['Train', 'Test'], loc='upper left')\n",
        "    plt.show()\n",
        "\n",
        "    # Plot training & validation loss values\n",
        "    plt.plot(history.history['loss'])\n",
        "    plt.plot(history.history['val_loss'])\n",
        "    plt.title('Model loss')\n",
        "    plt.ylabel('Loss')\n",
        "    plt.xlabel('Epoch')\n",
        "    plt.legend(['Train', 'Test'], loc='upper left')\n",
        "    plt.show()"
      ],
      "execution_count": 0,
      "outputs": []
    },
    {
      "cell_type": "code",
      "metadata": {
        "id": "8p-D-DIfud1J",
        "colab_type": "code",
        "outputId": "47d30111-c1a3-4d4f-f50f-bb28386dac8e",
        "colab": {
          "base_uri": "https://localhost:8080/",
          "height": 585
        }
      },
      "source": [
        "plot_results(history)"
      ],
      "execution_count": 0,
      "outputs": [
        {
          "output_type": "display_data",
          "data": {
            "image/png": "[encoded data removed]",
            "text/plain": [
              "<Figure size 432x288 with 1 Axes>"
            ]
          },
          "metadata": {
            "tags": []
          }
        },
        {
          "output_type": "display_data",
          "data": {
            "image/png": "[encoded data removed]",
            "text/plain": [
              "<Figure size 432x288 with 1 Axes>"
            ]
          },
          "metadata": {
            "tags": []
          }
        }
      ]
    },
    {
      "cell_type": "code",
      "metadata": {
        "id": "bjsJ45ISz2e9",
        "colab_type": "code",
        "colab": {}
      },
      "source": [
        "model.save(filepath='../content/gdrive/My Drive/NLP-data/CNN_model_weights_last_epoch.hdf5')"
      ],
      "execution_count": 0,
      "outputs": []
    },
    {
      "cell_type": "markdown",
      "metadata": {
        "id": "-k6f2_t9FzYF",
        "colab_type": "text"
      },
      "source": [
        "# Keras RNN model"
      ]
    },
    {
      "cell_type": "code",
      "metadata": {
        "id": "pJ-W9HxWFzYG",
        "colab_type": "code",
        "colab": {}
      },
      "source": [
        "from keras.models import Model\n",
        "from keras.layers import LSTM, Dense, Input\n",
        "from keras import backend as K"
      ],
      "execution_count": 0,
      "outputs": []
    },
    {
      "cell_type": "code",
      "metadata": {
        "id": "w6yeCzer3pgq",
        "colab_type": "code",
        "colab": {}
      },
      "source": [
        "K.clear_session()"
      ],
      "execution_count": 0,
      "outputs": []
    },
    {
      "cell_type": "code",
      "metadata": {
        "id": "E3nsYCNdFzYJ",
        "colab_type": "code",
        "colab": {}
      },
      "source": [
        "def lstm_model(embedding_matrix):\n",
        "    num_words = embedding_matrix.shape[0]\n",
        "    \n",
        "    sequence_input = Input(shape=(MAX_SEQUENCE_LENGTH,), dtype='int32')\n",
        "    \n",
        "    embedding_layer = Embedding(num_words,\n",
        "                                EMBEDDING_DIM,\n",
        "                                embeddings_initializer=Constant(embedding_matrix),\n",
        "                                input_length=MAX_SEQUENCE_LENGTH,\n",
        "                                trainable=False, \n",
        "                                mask_zero=True) \n",
        "    \n",
        "    embedded_sequences = embedding_layer(sequence_input)\n",
        "    \n",
        "    X = LSTM(128, dropout=0.2, recurrent_dropout=0.2)(embedded_sequences)\n",
        "    preds = Dense(1, activation='sigmoid')(X)\n",
        "\n",
        "    model = Model(sequence_input, preds)\n",
        "    \n",
        "    return model"
      ],
      "execution_count": 0,
      "outputs": []
    },
    {
      "cell_type": "code",
      "metadata": {
        "id": "R4Ry934yF09K",
        "colab_type": "code",
        "colab": {}
      },
      "source": [
        "# Callbacks\n",
        "checkpoint = ModelCheckpoint(filepath='../content/gdrive/My Drive/NLP-data/LSTM_model_weights.{epoch:02d}-{val_acc:.2f}.hdf5',\n",
        "                             monitor='val_acc', \n",
        "                             mode='max', \n",
        "                             verbose=1, \n",
        "                             save_best_only=True)"
      ],
      "execution_count": 0,
      "outputs": []
    },
    {
      "cell_type": "code",
      "metadata": {
        "scrolled": true,
        "id": "o_sBTPuwFzYN",
        "colab_type": "code",
        "outputId": "bd8b1c52-b730-4f93-9639-bd2525c8298a",
        "colab": {
          "base_uri": "https://localhost:8080/",
          "height": 1000
        }
      },
      "source": [
        "model = lstm_model(embedding_matrix)\n",
        "model.summary()"
      ],
      "execution_count": 0,
      "outputs": [
        {
          "output_type": "stream",
          "text": [
            "WARNING: Logging before flag parsing goes to stderr.\n",
            "W0706 12:49:44.110970 139724865861504 deprecation_wrapper.py:119] From /usr/local/lib/python3.6/dist-packages/keras/backend/tensorflow_backend.py:74: The name tf.get_default_graph is deprecated. Please use tf.compat.v1.get_default_graph instead.\n",
            "\n",
            "W0706 12:49:44.161819 139724865861504 deprecation_wrapper.py:119] From /usr/local/lib/python3.6/dist-packages/keras/backend/tensorflow_backend.py:517: The name tf.placeholder is deprecated. Please use tf.compat.v1.placeholder instead.\n",
            "\n",
            "W0706 12:49:44.211842 139724865861504 deprecation_wrapper.py:119] From /usr/local/lib/python3.6/dist-packages/keras/backend/tensorflow_backend.py:4138: The name tf.random_uniform is deprecated. Please use tf.random.uniform instead.\n",
            "\n",
            "W0706 12:49:44.331646 139724865861504 deprecation_wrapper.py:119] From /usr/local/lib/python3.6/dist-packages/keras/backend/tensorflow_backend.py:133: The name tf.placeholder_with_default is deprecated. Please use tf.compat.v1.placeholder_with_default instead.\n",
            "\n",
            "W0706 12:49:44.346419 139724865861504 deprecation.py:506] From /usr/local/lib/python3.6/dist-packages/keras/backend/tensorflow_backend.py:3445: calling dropout (from tensorflow.python.ops.nn_ops) with keep_prob is deprecated and will be removed in a future version.\n",
            "Instructions for updating:\n",
            "Please use `rate` instead of `keep_prob`. Rate should be set to `rate = 1 - keep_prob`.\n",
            "W0706 12:49:44.589537 139724865861504 deprecation.py:323] From /usr/local/lib/python3.6/dist-packages/keras/backend/tensorflow_backend.py:2974: add_dispatch_support.<locals>.wrapper (from tensorflow.python.ops.array_ops) is deprecated and will be removed in a future version.\n",
            "Instructions for updating:\n",
            "Use tf.where in 2.0, which has the same broadcast rule as np.where\n"
          ],
          "name": "stderr"
        },
        {
          "output_type": "stream",
          "text": [
            "_________________________________________________________________\n",
            "Layer (type)                 Output Shape              Param #   \n",
            "=================================================================\n",
            "input_1 (InputLayer)         (None, 400)               0         \n",
            "_________________________________________________________________\n",
            "embedding_1 (Embedding)      (None, 400, 100)          2000100   \n",
            "_________________________________________________________________\n",
            "lstm_1 (LSTM)                (None, 128)               117248    \n",
            "_________________________________________________________________\n",
            "dense_1 (Dense)              (None, 1)                 129       \n",
            "=================================================================\n",
            "Total params: 2,117,477\n",
            "Trainable params: 117,377\n",
            "Non-trainable params: 2,000,100\n",
            "_________________________________________________________________\n"
          ],
          "name": "stdout"
        }
      ]
    },
    {
      "cell_type": "code",
      "metadata": {
        "id": "gsBLMqKUFzYV",
        "colab_type": "code",
        "outputId": "57757a67-0722-4310-fb07-eaae6d680526",
        "colab": {
          "base_uri": "https://localhost:8080/",
          "height": 210
        }
      },
      "source": [
        "model.compile(loss='binary_crossentropy', optimizer='adam', metrics=['accuracy'])"
      ],
      "execution_count": 0,
      "outputs": [
        {
          "output_type": "stream",
          "text": [
            "W0706 12:49:51.959539 139724865861504 deprecation_wrapper.py:119] From /usr/local/lib/python3.6/dist-packages/keras/optimizers.py:790: The name tf.train.Optimizer is deprecated. Please use tf.compat.v1.train.Optimizer instead.\n",
            "\n",
            "W0706 12:49:51.986420 139724865861504 deprecation_wrapper.py:119] From /usr/local/lib/python3.6/dist-packages/keras/backend/tensorflow_backend.py:3376: The name tf.log is deprecated. Please use tf.math.log instead.\n",
            "\n"
          ],
          "name": "stderr"
        }
      ]
    },
    {
      "cell_type": "code",
      "metadata": {
        "id": "_nu1cfsIFzYX",
        "colab_type": "code",
        "outputId": "034c3acc-5263-40a6-cfe0-9fb0c1ddd450",
        "colab": {
          "base_uri": "https://localhost:8080/",
          "height": 69
        }
      },
      "source": [
        "%%time\n",
        "\n",
        "history = model.fit(X_train, y_train, batch_size=128, epochs=20, validation_data=(X_val, y_val))"
      ],
      "execution_count": 0,
      "outputs": [
        {
          "output_type": "stream",
          "text": [
            "Train on 45000 samples, validate on 5000 samples\n",
            "Epoch 1/20\n",
            " 2944/45000 [>.............................] - ETA: 5:36 - loss: 0.6754 - acc: 0.5798"
          ],
          "name": "stdout"
        }
      ]
    },
    {
      "cell_type": "code",
      "metadata": {
        "id": "-8zAdfPV7UAR",
        "colab_type": "code",
        "colab": {}
      },
      "source": [
        "plot_results(history)"
      ],
      "execution_count": 0,
      "outputs": []
    },
    {
      "cell_type": "code",
      "metadata": {
        "id": "dR4sR8Fb7_Rf",
        "colab_type": "code",
        "colab": {}
      },
      "source": [
        "model.save(filepath='../content/gdrive/My Drive/NLP-data/LSTM_model_weights_last_epoch.hdf5')"
      ],
      "execution_count": 0,
      "outputs": []
    }
  ]
}