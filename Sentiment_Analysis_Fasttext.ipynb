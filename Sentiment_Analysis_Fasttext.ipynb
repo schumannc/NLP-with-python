{
 "cells": [
  {
   "cell_type": "code",
   "execution_count": 0,
   "metadata": {
    "colab": {},
    "colab_type": "code",
    "id": "LOoHuJ2iFzVa"
   },
   "outputs": [],
   "source": [
    "import pandas as pd\n",
    "import seaborn as sns\n",
    "import matplotlib.pyplot as plt\n",
    "sns.set()\n",
    "\n",
    "import pprint as pp"
   ]
  },
  {
   "cell_type": "code",
   "execution_count": 47,
   "metadata": {
    "colab": {
     "base_uri": "https://localhost:8080/",
     "height": 34
    },
    "colab_type": "code",
    "id": "OdkRwbq_G3_A",
    "outputId": "51ed4c2a-ac62-470c-de3e-dadcbb4ccf86"
   },
   "outputs": [
    {
     "name": "stdout",
     "output_type": "stream",
     "text": [
      "Drive already mounted at /content/gdrive; to attempt to forcibly remount, call drive.mount(\"/content/gdrive\", force_remount=True).\n"
     ]
    }
   ],
   "source": [
    "from google.colab import drive\n",
    "drive.mount('/content/gdrive')"
   ]
  },
  {
   "cell_type": "markdown",
   "metadata": {
    "colab_type": "text",
    "id": "i7khdzq-FzVo"
   },
   "source": [
    "# The Data\n",
    "\n",
    "\n",
    ">The Multi-Domain Sentiment Dataset contains product reviews taken from Amazon.com from many product types (domains). Some domains (books and dvds) have hundreds of thousands of reviews. Others (musical instruments) have only a few hundred. Reviews contain star ratings (1 to 5 stars) that can be converted into binary labels if needed. This page contains some descriptions about the data. If you have questions, please email Mark Dredze or John Blitzer. \n",
    "\n",
    "http://www.cs.jhu.edu/~mdredze/datasets/sentiment/"
   ]
  },
  {
   "cell_type": "code",
   "execution_count": 0,
   "metadata": {
    "colab": {},
    "colab_type": "code",
    "id": "Cahir_nsFzVt"
   },
   "outputs": [],
   "source": [
    "csv_file = '../content/gdrive/My Drive/NLP-data/books_reviews.csv'\n",
    "df = pd.read_csv(csv_file)"
   ]
  },
  {
   "cell_type": "code",
   "execution_count": 0,
   "metadata": {
    "colab": {},
    "colab_type": "code",
    "id": "DWrLHvq6FzV0"
   },
   "outputs": [],
   "source": [
    "df['rating'] = df['rating'].astype('category')"
   ]
  },
  {
   "cell_type": "code",
   "execution_count": 50,
   "metadata": {
    "colab": {
     "base_uri": "https://localhost:8080/",
     "height": 139
    },
    "colab_type": "code",
    "id": "JrnWEzSDFzV7",
    "outputId": "47af9971-d152-49c5-de67-b01e8a216817"
   },
   "outputs": [
    {
     "name": "stdout",
     "output_type": "stream",
     "text": [
      "<class 'pandas.core.frame.DataFrame'>\n",
      "RangeIndex: 973194 entries, 0 to 973193\n",
      "Data columns (total 2 columns):\n",
      "rating         973194 non-null category\n",
      "review_text    973183 non-null object\n",
      "dtypes: category(1), object(1)\n",
      "memory usage: 8.4+ MB\n"
     ]
    }
   ],
   "source": [
    "df.info()"
   ]
  },
  {
   "cell_type": "code",
   "execution_count": 51,
   "metadata": {
    "colab": {
     "base_uri": "https://localhost:8080/",
     "height": 363
    },
    "colab_type": "code",
    "id": "cQDvumjKFzWF",
    "outputId": "6b939675-430f-434d-d323-c885fe6899e0"
   },
   "outputs": [
    {
     "data": {
      "text/html": [
       "<div>\n",
       "<style scoped>\n",
       "    .dataframe tbody tr th:only-of-type {\n",
       "        vertical-align: middle;\n",
       "    }\n",
       "\n",
       "    .dataframe tbody tr th {\n",
       "        vertical-align: top;\n",
       "    }\n",
       "\n",
       "    .dataframe thead th {\n",
       "        text-align: right;\n",
       "    }\n",
       "</style>\n",
       "<table border=\"1\" class=\"dataframe\">\n",
       "  <thead>\n",
       "    <tr style=\"text-align: right;\">\n",
       "      <th></th>\n",
       "      <th>rating</th>\n",
       "      <th>review_text</th>\n",
       "    </tr>\n",
       "  </thead>\n",
       "  <tbody>\n",
       "    <tr>\n",
       "      <th>0</th>\n",
       "      <td>5.0</td>\n",
       "      <td>This all-Spanish handbook for parents with new...</td>\n",
       "    </tr>\n",
       "    <tr>\n",
       "      <th>1</th>\n",
       "      <td>5.0</td>\n",
       "      <td>McCarthy's writing and portrayal of Lester Bal...</td>\n",
       "    </tr>\n",
       "    <tr>\n",
       "      <th>2</th>\n",
       "      <td>2.0</td>\n",
       "      <td>Do you giggle uncontrollably when poking corps...</td>\n",
       "    </tr>\n",
       "    <tr>\n",
       "      <th>3</th>\n",
       "      <td>5.0</td>\n",
       "      <td>I was initiated into the world of Cormac McCar...</td>\n",
       "    </tr>\n",
       "    <tr>\n",
       "      <th>4</th>\n",
       "      <td>4.0</td>\n",
       "      <td>I cannot speak to the literary points in the n...</td>\n",
       "    </tr>\n",
       "    <tr>\n",
       "      <th>5</th>\n",
       "      <td>4.0</td>\n",
       "      <td>There is no denying the strain of Faulkner tha...</td>\n",
       "    </tr>\n",
       "    <tr>\n",
       "      <th>6</th>\n",
       "      <td>5.0</td>\n",
       "      <td>I have read sevral of McCarthy's other novels....</td>\n",
       "    </tr>\n",
       "    <tr>\n",
       "      <th>7</th>\n",
       "      <td>5.0</td>\n",
       "      <td>This is a gripping novel that probes the bread...</td>\n",
       "    </tr>\n",
       "    <tr>\n",
       "      <th>8</th>\n",
       "      <td>1.0</td>\n",
       "      <td>If you're considering buying the Peter Smith \"...</td>\n",
       "    </tr>\n",
       "    <tr>\n",
       "      <th>9</th>\n",
       "      <td>2.0</td>\n",
       "      <td>What I didn't realise when I ordered this is t...</td>\n",
       "    </tr>\n",
       "  </tbody>\n",
       "</table>\n",
       "</div>"
      ],
      "text/plain": [
       "  rating                                        review_text\n",
       "0    5.0  This all-Spanish handbook for parents with new...\n",
       "1    5.0  McCarthy's writing and portrayal of Lester Bal...\n",
       "2    2.0  Do you giggle uncontrollably when poking corps...\n",
       "3    5.0  I was initiated into the world of Cormac McCar...\n",
       "4    4.0  I cannot speak to the literary points in the n...\n",
       "5    4.0  There is no denying the strain of Faulkner tha...\n",
       "6    5.0  I have read sevral of McCarthy's other novels....\n",
       "7    5.0  This is a gripping novel that probes the bread...\n",
       "8    1.0  If you're considering buying the Peter Smith \"...\n",
       "9    2.0  What I didn't realise when I ordered this is t..."
      ]
     },
     "execution_count": 51,
     "metadata": {
      "tags": []
     },
     "output_type": "execute_result"
    }
   ],
   "source": [
    "df.head(10)"
   ]
  },
  {
   "cell_type": "code",
   "execution_count": 52,
   "metadata": {
    "colab": {
     "base_uri": "https://localhost:8080/",
     "height": 191
    },
    "colab_type": "code",
    "id": "_FqDWsvMc0JW",
    "outputId": "1f582d14-d9cc-45ff-fa8b-d1c2e1126065"
   },
   "outputs": [
    {
     "name": "stdout",
     "output_type": "stream",
     "text": [
      "('Simple is definitely the word to describe this book. The photography is '\n",
      " 'gorgeous and the pictures take up most of the space.But the projects are '\n",
      " \"contrived and poorly explained for beginners. A mix of retro hippie/today's \"\n",
      " \"young hip designs. There isn't one project that interests me nor is there \"\n",
      " 'any inspiration to be taken from these designs. I expect better books from '\n",
      " 'Interweave Press. This one is a disappointment. I gave the same review for '\n",
      " 'Color on Color by the same author')\n",
      "----------------------------------------------------------------------------------------------------\n",
      "Number of words: 82\n",
      "Rating: 2 stars\n"
     ]
    }
   ],
   "source": [
    "sample = df[df['rating'] == 2].sample(1)\n",
    "pp.pprint(sample['review_text'].values[0])\n",
    "print('-'*100)\n",
    "print('Number of words: %d' % sample['review_text'].str.split().apply(len))\n",
    "print('Rating: %d stars' % sample['rating'].values[0])"
   ]
  },
  {
   "cell_type": "code",
   "execution_count": 53,
   "metadata": {
    "colab": {
     "base_uri": "https://localhost:8080/",
     "height": 301
    },
    "colab_type": "code",
    "hide_input": false,
    "id": "G6IPyFsgFzWM",
    "outputId": "a6512354-6624-44e7-ab48-2909b52423f4"
   },
   "outputs": [
    {
     "data": {
      "image/png": "[encoded data removed]",
      "text/plain": [
       "<Figure size 432x288 with 1 Axes>"
      ]
     },
     "metadata": {
      "tags": []
     },
     "output_type": "display_data"
    }
   ],
   "source": [
    "def plot_rating_dist(df, x='rating', title='Rating distribution', xlabel='stars', ylim=700000):\n",
    "    ax = sns.countplot(x=x, data=df)\n",
    "    ax.set_title(title)\n",
    "    ax.set_xlabel(xlabel)\n",
    "    for rect in ax.containers[0]:\n",
    "        tw = rect.get_width() / 2.\n",
    "        tx = rect.get_x() + tw\n",
    "        height = rect.get_height()\n",
    "        ty = 1.05 * height\n",
    "        ax.text(tx, ty, height, ha='center')\n",
    "\n",
    "    ax.set_ylim(0, ylim)\n",
    "    \n",
    "plot_rating_dist(df)"
   ]
  },
  {
   "cell_type": "code",
   "execution_count": 0,
   "metadata": {
    "colab": {},
    "colab_type": "code",
    "id": "7g_c6dlaFzWc"
   },
   "outputs": [],
   "source": [
    "def binary_labels(df, min_set=None):\n",
    " \n",
    "    # Cleanning data set\n",
    "    count = df['review_text'].str.len()\n",
    "    df = df[(count > 3) | (count < 4000)].copy()\n",
    "    \n",
    "    # Equilize dataset sample size\n",
    "    if min_set is None:\n",
    "        min_set = df['rating'].value_counts().min() * 4\n",
    "    \n",
    "    # Split rating 1.0, 2.0 as negative reviews\n",
    "    rating_1 = df[df['rating'] == 1.0].iloc[:min_set // 4]\n",
    "    rating_2 = df[df['rating'] == 2.0].iloc[:min_set // 4]\n",
    "    negative_reviews = pd.concat([rating_1, rating_2])\n",
    "    negative_reviews['label'] = 0\n",
    "    \n",
    "    # Split rating 4.0, 5.0 as positive reviews\n",
    "    rating_4 = df[df['rating'] == 4.0].iloc[:min_set // 4]\n",
    "    rating_5 = df[df['rating'] == 5.0].iloc[:min_set // 4]\n",
    "    positive_reviews = pd.concat([rating_4, rating_5])\n",
    "    positive_reviews['label'] = 1\n",
    "    \n",
    "    dataset = pd.concat([negative_reviews, positive_reviews])\n",
    "    dataset.sort_index(inplace=True)\n",
    "    \n",
    "    return dataset\n",
    "\n",
    "dataset = binary_labels(df,  min_set=50000)"
   ]
  },
  {
   "cell_type": "code",
   "execution_count": 54,
   "metadata": {
    "colab": {
     "base_uri": "https://localhost:8080/",
     "height": 301
    },
    "colab_type": "code",
    "id": "AdrPisat0XDK",
    "outputId": "2ee0a714-b142-4395-93ba-9da29c755463"
   },
   "outputs": [
    {
     "data": {
      "image/png": "[encoded data removed]",
      "text/plain": [
       "<Figure size 432x288 with 1 Axes>"
      ]
     },
     "metadata": {
      "tags": []
     },
     "output_type": "display_data"
    }
   ],
   "source": [
    "plot_rating_dist(dataset, ylim=20000)"
   ]
  },
  {
   "cell_type": "code",
   "execution_count": 55,
   "metadata": {
    "colab": {
     "base_uri": "https://localhost:8080/",
     "height": 336
    },
    "colab_type": "code",
    "id": "7Zbbv7WLzMvi",
    "outputId": "8cd33b70-b3b0-4813-be0c-8ac1ec80b710"
   },
   "outputs": [
    {
     "name": "stdout",
     "output_type": "stream",
     "text": [
      "texts size:  50000\n",
      "labels size:  50000\n"
     ]
    },
    {
     "data": {
      "image/png": "[encoded data removed]",
      "text/plain": [
       "<Figure size 432x288 with 1 Axes>"
      ]
     },
     "metadata": {
      "tags": []
     },
     "output_type": "display_data"
    }
   ],
   "source": [
    "texts = dataset['review_text'].astype(str)\n",
    "labels = dataset['label'].astype('int32')\n",
    "\n",
    "print('texts size: ', texts.size)\n",
    "print('labels size: ', labels.size)\n",
    "\n",
    "plot_rating_dist(pd.concat([texts, labels], axis=1), x='label', title='Equalized data set', xlabel='0-negative/1-positive', ylim=40000)"
   ]
  },
  {
   "cell_type": "markdown",
   "metadata": {
    "colab_type": "text",
    "id": "BLV2gM1dZ67f"
   },
   "source": [
    "# Preprocessing Text data"
   ]
  },
  {
   "cell_type": "code",
   "execution_count": 0,
   "metadata": {
    "colab": {},
    "colab_type": "code",
    "id": "HA_fs3-R1tPU"
   },
   "outputs": [],
   "source": [
    "from keras.preprocessing.sequence import pad_sequences"
   ]
  },
  {
   "cell_type": "code",
   "execution_count": 0,
   "metadata": {
    "colab": {},
    "colab_type": "code",
    "id": "8GChkxhaZ6YZ"
   },
   "outputs": [],
   "source": [
    "MAX_NUM_FEATURES = 20000\n",
    "NGRAN_RANGE = 2\n",
    "MAX_SEQUENCE_LENGTH = 400\n",
    "VALIDATION_SPLIT = .1"
   ]
  },
  {
   "cell_type": "code",
   "execution_count": 58,
   "metadata": {
    "colab": {
     "base_uri": "https://localhost:8080/",
     "height": 34
    },
    "colab_type": "code",
    "id": "O9njD12SFzXe",
    "outputId": "b7accd39-bad0-4c20-8074-d5b99f1645ef"
   },
   "outputs": [
    {
     "name": "stdout",
     "output_type": "stream",
     "text": [
      "Found 96740 unique tokens.\n"
     ]
    }
   ],
   "source": [
    "from keras.preprocessing import text\n",
    "\n",
    "tokenizer = text.Tokenizer(num_words=MAX_NUM_FEATURES)\n",
    "tokenizer.fit_on_texts(texts)\n",
    "sequences = tokenizer.texts_to_sequences(texts)\n",
    "word_index = tokenizer.word_index\n",
    "\n",
    "print('Found %s unique tokens.' % len(word_index))"
   ]
  },
  {
   "cell_type": "code",
   "execution_count": 71,
   "metadata": {
    "colab": {
     "base_uri": "https://localhost:8080/",
     "height": 52
    },
    "colab_type": "code",
    "id": "iznDQlsuaePV",
    "outputId": "1b90d70b-ae3b-46b8-9e60-94012f4f6af8"
   },
   "outputs": [
    {
     "name": "stdout",
     "output_type": "stream",
     "text": [
      "50000 sequences\n",
      "Average train sequence length: 168\n"
     ]
    }
   ],
   "source": [
    "import numpy as np\n",
    "\n",
    "print(len(sequences), 'sequences')\n",
    "print('Average train sequence length: %d' % np.mean(list(map(len, sequences))))"
   ]
  },
  {
   "cell_type": "code",
   "execution_count": 0,
   "metadata": {
    "colab": {},
    "colab_type": "code",
    "id": "6nAjBcorbrzl"
   },
   "outputs": [],
   "source": [
    "def create_ngram_set(input_list, ngram_value=2):\n",
    "    \"\"\"\n",
    "    Extract a set of n-grams from a list of integers.\n",
    "    >>> create_ngram_set([1, 4, 9, 4, 1, 4], ngram_value=2)\n",
    "    {(4, 9), (4, 1), (1, 4), (9, 4)}\n",
    "    >>> create_ngram_set([1, 4, 9, 4, 1, 4], ngram_value=3)\n",
    "    [(1, 4, 9), (4, 9, 4), (9, 4, 1), (4, 1, 4)]\n",
    "    \"\"\"\n",
    "    return set(zip(*[input_list[i:] for i in range(ngram_value)]))\n",
    "\n",
    "\n",
    "def add_ngram(sequences, token_indice, ngram_range=2):\n",
    "    \"\"\"\n",
    "    Augment the input list of list (sequences) by appending n-grams values.\n",
    "    Example: adding bi-gram\n",
    "    >>> sequences = [[1, 3, 4, 5], [1, 3, 7, 9, 2]]\n",
    "    >>> token_indice = {(1, 3): 1337, (9, 2): 42, (4, 5): 2017}\n",
    "    >>> add_ngram(sequences, token_indice, ngram_range=2)\n",
    "    [[1, 3, 4, 5, 1337, 2017], [1, 3, 7, 9, 2, 1337, 42]]\n",
    "    Example: adding tri-gram\n",
    "    >>> sequences = [[1, 3, 4, 5], [1, 3, 7, 9, 2]]\n",
    "    >>> token_indice = {(1, 3): 1337, (9, 2): 42, (4, 5): 2017, (7, 9, 2): 2018}\n",
    "    >>> add_ngram(sequences, token_indice, ngram_range=3)\n",
    "    [[1, 3, 4, 5, 1337, 2017], [1, 3, 7, 9, 2, 1337, 42, 2018]]\n",
    "    \"\"\"\n",
    "    new_sequences = []\n",
    "    for input_list in sequences:\n",
    "        new_list = input_list[:]\n",
    "        for ngram_value in range(2, ngram_range + 1):\n",
    "            for i in range(len(new_list) - ngram_value + 1):\n",
    "                ngram = tuple(new_list[i:i + ngram_value])\n",
    "                if ngram in token_indice:\n",
    "                    new_list.append(token_indice[ngram])\n",
    "        new_sequences.append(new_list)\n",
    "\n",
    "    return new_sequences"
   ]
  },
  {
   "cell_type": "code",
   "execution_count": 73,
   "metadata": {
    "colab": {
     "base_uri": "https://localhost:8080/",
     "height": 69
    },
    "colab_type": "code",
    "id": "QmFFojKsb7nV",
    "outputId": "4236f121-263d-4e6d-f25a-3907d6d16471"
   },
   "outputs": [
    {
     "name": "stdout",
     "output_type": "stream",
     "text": [
      "Update MAX_NUM_FEATURES 1248043\n",
      "50000 sequences\n",
      "Average train sequence length: 335\n"
     ]
    }
   ],
   "source": [
    "if NGRAN_RANGE > 1:\n",
    "    ngram_set = set()\n",
    "    for input_list in sequences:\n",
    "        for i in range(2, NGRAN_RANGE + 1):\n",
    "            set_of_ngram = create_ngram_set(input_list, ngram_value=i)\n",
    "            ngram_set.update(set_of_ngram)\n",
    "    \n",
    "    # Dictionary mapping n-gram token to a unique integer.\n",
    "    # Integer values are greater than max_features in order\n",
    "    # to avoid collision with existing features.        \n",
    "    token_indice = {v: k + MAX_NUM_FEATURES for k, v in enumerate(ngram_set)}\n",
    "    indice_token = {token_indice[k]: k for k in token_indice}\n",
    "    \n",
    "    # Update MAX_NUM_FEATURES\n",
    "    MAX_NUM_FEATURES = np.max(list(indice_token.keys())) + 1\n",
    "    print('Update MAX_NUM_FEATURES %d' % MAX_NUM_FEATURES)\n",
    "    \n",
    "    # Augument sequences with the new features\n",
    "    sequences = add_ngram(sequences, token_indice, NGRAN_RANGE)\n",
    "    print(len(sequences), 'sequences')\n",
    "    print('Average train sequence length: %d' % np.mean(list(map(len, sequences))))"
   ]
  },
  {
   "cell_type": "code",
   "execution_count": 0,
   "metadata": {
    "colab": {},
    "colab_type": "code",
    "id": "9Bo4PMALmb5C"
   },
   "outputs": [],
   "source": [
    "data = pad_sequences(sequences, maxlen=MAX_SEQUENCE_LENGTH)"
   ]
  },
  {
   "cell_type": "code",
   "execution_count": 76,
   "metadata": {
    "colab": {
     "base_uri": "https://localhost:8080/",
     "height": 176
    },
    "colab_type": "code",
    "id": "ex8D5E-u5BL5",
    "outputId": "822b04f1-e8eb-49df-e4d7-f96291da21fb"
   },
   "outputs": [
    {
     "name": "stdout",
     "output_type": "stream",
     "text": [
      "[0, 0, 0, 0, 0, 0, 0, 0, 0, 0, 0, 0, 0, 0, 0, 0, 0, 0, 0, 0, 0, 0, 0, 0, 0, 0, 0, 0, 0, 0, 0, 0, 0, 0, 0, 0, 0, 0, 0, 0, 0, 0, 0, 0, 0, 0, 0, 0, 0, 0, 0, 0, 0, 0, 0, 0, 0, 0, 0, 0, 0, 0, 0, 0, 0, 0,\n",
      " 0, 0, 0, 0, 0, 0, 0, 0, 0, 0, 0, 0, 0, 0, 0, 0, 0, 0, 0, 0, 0, 0, 0, 0, 0, 0, 0, 0, 0, 0, 0, 0, 0, 0, 0, 0, 0, 0, 0, 0, 0, 0, 0, 0, 0, 0, 0, 0, 0, 0, 0, 0, 0, 0, 0, 0, 0, 0, 0, 0, 0, 0, 0, 0, 0, 0,\n",
      " 0, 0, 0, 0, 0, 0, 0, 0, 0, 0, 0, 0, 0, 0, 0, 0, 0, 0, 0, 0, 0, 0, 0, 0, 0, 0, 0, 0, 0, 0, 0, 0, 0, 0, 0, 0, 0, 0, 0, 0, 0, 0, 0, 0, 0, 0, 0, 0, 0, 0, 0, 0, 0, 0, 0, 0, 0, 0, 0, 0, 0, 0, 0, 0, 0, 0,\n",
      " 0, 0, 0, 0, 0, 0, 0, 0, 0, 0, 0, 0, 0, 0, 0, 0, 0, 0, 0, 0, 0, 0, 0, 0, 0, 0, 0, 0, 0, 0, 0, 0, 0, 0, 0, 0, 0, 0, 0, 0, 0, 0, 0, 0, 0, 0, 0, 0, 0, 0, 0, 0, 0, 0, 0, 0, 0, 0, 0, 0, 0, 0, 0, 0, 0, 0,\n",
      " 0, 0, 0, 0, 0, 0, 0, 0, 0, 0, 0, 0, 0, 0, 0, 0, 0, 0, 0, 0, 0, 0, 0, 0, 0, 0, 0, 0, 0, 0, 0, 0, 0, 0, 0, 10, 32, 2483, 5241, 13, 689, 15, 104, 3224, 51, 1259, 1526, 13, 91, 1545, 30, 5, 3339, 882,\n",
      " 2337, 2445, 80, 7, 593, 1, 2483, 567, 536, 1526, 882, 171, 34, 5, 5170, 13, 689, 7, 1087, 391, 3, 112, 24, 5, 18785, 2, 91, 2483, 1690, 373, 15, 288, 663163, 120348, 293030, 1144636, 594834, 955630,\n",
      " 167040, 740248, 558822, 802284, 110713, 576882, 246529, 583087, 494018, 348710, 789007, 668818, 609333, 888380, 1054278, 411358, 716241, 1173482, 1233268, 706425, 805611, 1014330, 759701, 310491,\n",
      " 959699, 1026087, 1172839, 224643, 594834, 1114791, 191547, 1043269, 930575, 638975, 183474, 153176, 508137, 436053, 178697, 728986, 396818, 1130768, 1217758, 1014600]\n"
     ]
    }
   ],
   "source": [
    "pp.pprint(data[0].tolist(), width=200, compact=True)"
   ]
  },
  {
   "cell_type": "code",
   "execution_count": 0,
   "metadata": {
    "colab": {},
    "colab_type": "code",
    "id": "FSglNAEfFzX8"
   },
   "outputs": [],
   "source": [
    "# Split the date into train and validation sets\n",
    "num_validation_samples = int(VALIDATION_SPLIT * data.shape[0])\n",
    "\n",
    "X_train = data[:-num_validation_samples]\n",
    "y_train = labels[:-num_validation_samples]\n",
    "X_val = data[-num_validation_samples:]\n",
    "y_val = labels[-num_validation_samples:]"
   ]
  },
  {
   "cell_type": "code",
   "execution_count": 78,
   "metadata": {
    "colab": {
     "base_uri": "https://localhost:8080/",
     "height": 86
    },
    "colab_type": "code",
    "id": "tq8BMi7dFzYA",
    "outputId": "70c6282b-99c1-49b3-ffeb-5a6dfb32fb51"
   },
   "outputs": [
    {
     "name": "stdout",
     "output_type": "stream",
     "text": [
      "X_train shape: (45000, 400)\n",
      "X_val shape: (5000, 400)\n",
      "y_train shape: (45000,) type int32\n",
      "y_val shape: (5000,) type int32\n"
     ]
    }
   ],
   "source": [
    "print('X_train shape:', X_train.shape)\n",
    "print('X_val shape:', X_val.shape)\n",
    "print('y_train shape:', y_train.shape, 'type', y_train.dtype)\n",
    "print('y_val shape:', y_val.shape, 'type', y_val.dtype)"
   ]
  },
  {
   "cell_type": "markdown",
   "metadata": {
    "colab_type": "text",
    "id": "EuMBxY94Cag-"
   },
   "source": [
    "# Fasttext Model"
   ]
  },
  {
   "cell_type": "code",
   "execution_count": 0,
   "metadata": {
    "colab": {},
    "colab_type": "code",
    "id": "AQ71bMb8CfR8"
   },
   "outputs": [],
   "source": [
    "from keras.models import Sequential\n",
    "from keras.layers import Embedding, GlobalAveragePooling1D, Dense\n",
    "from keras.callbacks import ModelCheckpoint"
   ]
  },
  {
   "cell_type": "code",
   "execution_count": 0,
   "metadata": {
    "colab": {},
    "colab_type": "code",
    "id": "O-7_D2rZC-wA"
   },
   "outputs": [],
   "source": [
    "def fasttext_model():\n",
    "    model = Sequential()\n",
    "    model.add(Embedding(input_dim=MAX_NUM_FEATURES,\n",
    "                        output_dim=50,\n",
    "                        input_length=MAX_SEQUENCE_LENGTH))\n",
    "    model.add(GlobalAveragePooling1D())\n",
    "    model.add(Dense(1, activation='sigmoid'))\n",
    "    return model"
   ]
  },
  {
   "cell_type": "code",
   "execution_count": 0,
   "metadata": {
    "colab": {},
    "colab_type": "code",
    "id": "lEFBfeJWFjOr"
   },
   "outputs": [],
   "source": [
    "# callback\n",
    "checkpoint = ModelCheckpoint(filepath='../content/gdrive/My Drive/NLP-data/Fasttext_ng2_model_weights.{epoch:02d}-{val_acc:.2f}.hdf5',\n",
    "                             monitor='val_acc', \n",
    "                             mode='max', \n",
    "                             verbose=1, \n",
    "                             save_best_only=True)"
   ]
  },
  {
   "cell_type": "code",
   "execution_count": 82,
   "metadata": {
    "colab": {
     "base_uri": "https://localhost:8080/",
     "height": 243
    },
    "colab_type": "code",
    "id": "6hy0M0MEEnux",
    "outputId": "5441c38f-008e-4704-f4a1-6a3cfeb03a22"
   },
   "outputs": [
    {
     "name": "stdout",
     "output_type": "stream",
     "text": [
      "_________________________________________________________________\n",
      "Layer (type)                 Output Shape              Param #   \n",
      "=================================================================\n",
      "embedding_2 (Embedding)      (None, 400, 50)           62402150  \n",
      "_________________________________________________________________\n",
      "global_average_pooling1d_2 ( (None, 50)                0         \n",
      "_________________________________________________________________\n",
      "dense_2 (Dense)              (None, 1)                 51        \n",
      "=================================================================\n",
      "Total params: 62,402,201\n",
      "Trainable params: 62,402,201\n",
      "Non-trainable params: 0\n",
      "_________________________________________________________________\n"
     ]
    }
   ],
   "source": [
    "model = fasttext_model()\n",
    "model.summary()"
   ]
  },
  {
   "cell_type": "code",
   "execution_count": 0,
   "metadata": {
    "colab": {},
    "colab_type": "code",
    "id": "NGg-iVLcsjdS"
   },
   "outputs": [],
   "source": [
    "model.compile(loss='binary_crossentropy', optimizer='adam', metrics=['accuracy'])"
   ]
  },
  {
   "cell_type": "code",
   "execution_count": 84,
   "metadata": {
    "colab": {
     "base_uri": "https://localhost:8080/",
     "height": 1000
    },
    "colab_type": "code",
    "id": "GJ6EZIbGuN1w",
    "outputId": "e72e4417-1051-43a7-b532-bcf2e72f762b"
   },
   "outputs": [
    {
     "name": "stdout",
     "output_type": "stream",
     "text": [
      "Train on 45000 samples, validate on 5000 samples\n",
      "Epoch 1/20\n",
      "45000/45000 [==============================] - 456s 10ms/step - loss: 0.6522 - acc: 0.6160 - val_loss: 0.6991 - val_acc: 0.4566\n",
      "\n",
      "Epoch 00001: val_acc improved from -inf to 0.45660, saving model to ../content/gdrive/My Drive/NLP-data/Fasttext_ng2_model_weights.01-0.46.hdf5\n",
      "Epoch 2/20\n",
      "45000/45000 [==============================] - 457s 10ms/step - loss: 0.4767 - acc: 0.8422 - val_loss: 0.5413 - val_acc: 0.7052\n",
      "\n",
      "Epoch 00002: val_acc improved from 0.45660 to 0.70520, saving model to ../content/gdrive/My Drive/NLP-data/Fasttext_ng2_model_weights.02-0.71.hdf5\n",
      "Epoch 3/20\n",
      "45000/45000 [==============================] - 453s 10ms/step - loss: 0.3176 - acc: 0.9202 - val_loss: 0.4253 - val_acc: 0.8080\n",
      "\n",
      "Epoch 00003: val_acc improved from 0.70520 to 0.80800, saving model to ../content/gdrive/My Drive/NLP-data/Fasttext_ng2_model_weights.03-0.81.hdf5\n",
      "Epoch 4/20\n",
      "45000/45000 [==============================] - 451s 10ms/step - loss: 0.2237 - acc: 0.9494 - val_loss: 0.3372 - val_acc: 0.8672\n",
      "\n",
      "Epoch 00004: val_acc improved from 0.80800 to 0.86720, saving model to ../content/gdrive/My Drive/NLP-data/Fasttext_ng2_model_weights.04-0.87.hdf5\n",
      "Epoch 5/20\n",
      "45000/45000 [==============================] - 458s 10ms/step - loss: 0.1656 - acc: 0.9661 - val_loss: 0.3510 - val_acc: 0.8406\n",
      "\n",
      "Epoch 00005: val_acc did not improve from 0.86720\n",
      "Epoch 6/20\n",
      "45000/45000 [==============================] - 450s 10ms/step - loss: 0.1265 - acc: 0.9764 - val_loss: 0.3162 - val_acc: 0.8662\n",
      "\n",
      "Epoch 00006: val_acc did not improve from 0.86720\n",
      "Epoch 7/20\n",
      "45000/45000 [==============================] - 450s 10ms/step - loss: 0.0991 - acc: 0.9831 - val_loss: 0.3100 - val_acc: 0.8694\n",
      "\n",
      "Epoch 00007: val_acc improved from 0.86720 to 0.86940, saving model to ../content/gdrive/My Drive/NLP-data/Fasttext_ng2_model_weights.07-0.87.hdf5\n",
      "Epoch 8/20\n",
      "45000/45000 [==============================] - 459s 10ms/step - loss: 0.0790 - acc: 0.9876 - val_loss: 0.2933 - val_acc: 0.8802\n",
      "\n",
      "Epoch 00008: val_acc improved from 0.86940 to 0.88020, saving model to ../content/gdrive/My Drive/NLP-data/Fasttext_ng2_model_weights.08-0.88.hdf5\n",
      "Epoch 9/20\n",
      "45000/45000 [==============================] - 452s 10ms/step - loss: 0.0637 - acc: 0.9910 - val_loss: 0.2832 - val_acc: 0.8848\n",
      "\n",
      "Epoch 00009: val_acc improved from 0.88020 to 0.88480, saving model to ../content/gdrive/My Drive/NLP-data/Fasttext_ng2_model_weights.09-0.88.hdf5\n",
      "Epoch 10/20\n",
      "45000/45000 [==============================] - 453s 10ms/step - loss: 0.0520 - acc: 0.9933 - val_loss: 0.3006 - val_acc: 0.8748\n",
      "\n",
      "Epoch 00010: val_acc did not improve from 0.88480\n",
      "Epoch 11/20\n",
      "45000/45000 [==============================] - 454s 10ms/step - loss: 0.0427 - acc: 0.9947 - val_loss: 0.2831 - val_acc: 0.8876\n",
      "\n",
      "Epoch 00011: val_acc improved from 0.88480 to 0.88760, saving model to ../content/gdrive/My Drive/NLP-data/Fasttext_ng2_model_weights.11-0.89.hdf5\n",
      "Epoch 12/20\n",
      "45000/45000 [==============================] - 455s 10ms/step - loss: 0.0354 - acc: 0.9956 - val_loss: 0.2807 - val_acc: 0.8908\n",
      "\n",
      "Epoch 00012: val_acc improved from 0.88760 to 0.89080, saving model to ../content/gdrive/My Drive/NLP-data/Fasttext_ng2_model_weights.12-0.89.hdf5\n",
      "Epoch 13/20\n",
      "45000/45000 [==============================] - 452s 10ms/step - loss: 0.0295 - acc: 0.9967 - val_loss: 0.2844 - val_acc: 0.8882\n",
      "\n",
      "Epoch 00013: val_acc did not improve from 0.89080\n",
      "Epoch 14/20\n",
      "45000/45000 [==============================] - 457s 10ms/step - loss: 0.0247 - acc: 0.9974 - val_loss: 0.2988 - val_acc: 0.8834\n",
      "\n",
      "Epoch 00014: val_acc did not improve from 0.89080\n",
      "Epoch 15/20\n",
      "45000/45000 [==============================] - 454s 10ms/step - loss: 0.0208 - acc: 0.9979 - val_loss: 0.2985 - val_acc: 0.8874\n",
      "\n",
      "Epoch 00015: val_acc did not improve from 0.89080\n",
      "Epoch 16/20\n",
      "45000/45000 [==============================] - 452s 10ms/step - loss: 0.0175 - acc: 0.9984 - val_loss: 0.3266 - val_acc: 0.8776\n",
      "\n",
      "Epoch 00016: val_acc did not improve from 0.89080\n",
      "Epoch 17/20\n",
      "45000/45000 [==============================] - 457s 10ms/step - loss: 0.0148 - acc: 0.9986 - val_loss: 0.2884 - val_acc: 0.8984\n",
      "\n",
      "Epoch 00017: val_acc improved from 0.89080 to 0.89840, saving model to ../content/gdrive/My Drive/NLP-data/Fasttext_ng2_model_weights.17-0.90.hdf5\n",
      "Epoch 18/20\n",
      "45000/45000 [==============================] - 453s 10ms/step - loss: 0.0126 - acc: 0.9987 - val_loss: 0.2964 - val_acc: 0.8964\n",
      "\n",
      "Epoch 00018: val_acc did not improve from 0.89840\n",
      "Epoch 19/20\n",
      "45000/45000 [==============================] - 451s 10ms/step - loss: 0.0108 - acc: 0.9990 - val_loss: 0.3238 - val_acc: 0.8844\n",
      "\n",
      "Epoch 00019: val_acc did not improve from 0.89840\n",
      "Epoch 20/20\n",
      "45000/45000 [==============================] - 456s 10ms/step - loss: 0.0091 - acc: 0.9992 - val_loss: 0.3066 - val_acc: 0.8982\n",
      "\n",
      "Epoch 00020: val_acc did not improve from 0.89840\n",
      "CPU times: user 2h 25min 6s, sys: 5min 47s, total: 2h 30min 53s\n",
      "Wall time: 2h 32min 17s\n"
     ]
    }
   ],
   "source": [
    "%%time\n",
    "\n",
    "history = model.fit(X_train, y_train,\n",
    "                    batch_size=128,\n",
    "                    epochs=20,\n",
    "                    validation_data=(X_val, y_val),\n",
    "                    callbacks=[checkpoint])"
   ]
  },
  {
   "cell_type": "code",
   "execution_count": 0,
   "metadata": {
    "colab": {},
    "colab_type": "code",
    "id": "qV91WT6sFzYc"
   },
   "outputs": [],
   "source": [
    "def plot_results(history):\n",
    "    # Plot training & validation accuracy values\n",
    "    plt.plot(history.history['acc'])\n",
    "    plt.plot(history.history['val_acc'])\n",
    "    plt.title('Model accuracy')\n",
    "    plt.ylabel('Accuracy')\n",
    "    plt.xlabel('Epoch')\n",
    "    plt.legend(['Train', 'Test'], loc='upper left')\n",
    "    plt.show()\n",
    "\n",
    "    # Plot training & validation loss values\n",
    "    plt.plot(history.history['loss'])\n",
    "    plt.plot(history.history['val_loss'])\n",
    "    plt.title('Model loss')\n",
    "    plt.ylabel('Loss')\n",
    "    plt.xlabel('Epoch')\n",
    "    plt.legend(['Train', 'Test'], loc='upper left')\n",
    "    plt.show()"
   ]
  },
  {
   "cell_type": "code",
   "execution_count": 86,
   "metadata": {
    "colab": {
     "base_uri": "https://localhost:8080/",
     "height": 585
    },
    "colab_type": "code",
    "id": "8p-D-DIfud1J",
    "outputId": "3c5c1ede-e620-4cee-8789-79681b999584"
   },
   "outputs": [
    {
     "data": {
      "image/png": "[encoded data removed]",
      "text/plain": [
       "<Figure size 432x288 with 1 Axes>"
      ]
     },
     "metadata": {
      "tags": []
     },
     "output_type": "display_data"
    },
    {
     "data": {
      "image/png": "[encoded data removed]",
      "text/plain": [
       "<Figure size 432x288 with 1 Axes>"
      ]
     },
     "metadata": {
      "tags": []
     },
     "output_type": "display_data"
    }
   ],
   "source": [
    "plot_results(history)"
   ]
  },
  {
   "cell_type": "code",
   "execution_count": 0,
   "metadata": {
    "colab": {},
    "colab_type": "code",
    "id": "jfJcddVL1MG2"
   },
   "outputs": [],
   "source": [
    "model.save(filepath='../content/gdrive/My Drive/NLP-data/Fasttext_ng2_model_weights_last_epoch.hdf5')"
   ]
  }
 ],
 "metadata": {
  "accelerator": "TPU",
  "colab": {
   "collapsed_sections": [],
   "name": "Análise_de_Sentimento_Fasttext.ipynb",
   "provenance": [],
   "version": "0.3.2"
  },
  "kernelspec": {
   "display_name": "Python 3",
   "language": "python",
   "name": "python3"
  },
  "language_info": {
   "codemirror_mode": {
    "name": "ipython",
    "version": 3
   },
   "file_extension": ".py",
   "mimetype": "text/x-python",
   "name": "python",
   "nbconvert_exporter": "python",
   "pygments_lexer": "ipython3",
   "version": "3.7.3"
  },
  "toc": {
   "base_numbering": 1,
   "nav_menu": {},
   "number_sections": true,
   "sideBar": true,
   "skip_h1_title": false,
   "title_cell": "Table of Contents",
   "title_sidebar": "Contents",
   "toc_cell": false,
   "toc_position": {},
   "toc_section_display": true,
   "toc_window_display": false
  }
 },
 "nbformat": 4,
 "nbformat_minor": 1
}
