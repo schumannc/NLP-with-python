{
  "nbformat": 4,
  "nbformat_minor": 0,
  "metadata": {
    "colab": {
      "name": "Análise_de_Sentimento_Fasttext.ipynb",
      "version": "0.3.2",
      "provenance": [],
      "collapsed_sections": []
    },
    "language_info": {
      "codemirror_mode": {
        "name": "ipython",
        "version": 3
      },
      "file_extension": ".py",
      "mimetype": "text/x-python",
      "name": "python",
      "nbconvert_exporter": "python",
      "pygments_lexer": "ipython3",
      "version": "3.7.3"
    },
    "kernelspec": {
      "name": "python3",
      "display_name": "Python 3"
    },
    "accelerator": "TPU"
  },
  "cells": [
    {
      "cell_type": "code",
      "metadata": {
        "id": "LOoHuJ2iFzVa",
        "colab_type": "code",
        "colab": {}
      },
      "source": [
        "import pandas as pd\n",
        "import seaborn as sns\n",
        "import matplotlib.pyplot as plt\n",
        "sns.set()\n",
        "\n",
        "import pprint as pp\n",
        "from joblib import dump"
      ],
      "execution_count": 0,
      "outputs": []
    },
    {
      "cell_type": "code",
      "metadata": {
        "id": "OdkRwbq_G3_A",
        "colab_type": "code",
        "outputId": "7f5ea0f4-2061-495b-d493-201c6a899173",
        "colab": {
          "base_uri": "https://localhost:8080/",
          "height": 34
        }
      },
      "source": [
        "from google.colab import drive\n",
        "drive.mount('/content/gdrive')"
      ],
      "execution_count": 0,
      "outputs": [
        {
          "output_type": "stream",
          "text": [
            "Drive already mounted at /content/gdrive; to attempt to forcibly remount, call drive.mount(\"/content/gdrive\", force_remount=True).\n"
          ],
          "name": "stdout"
        }
      ]
    },
    {
      "cell_type": "markdown",
      "metadata": {
        "id": "i7khdzq-FzVo",
        "colab_type": "text"
      },
      "source": [
        "# The Data\n",
        "\n",
        "\n",
        ">The Multi-Domain Sentiment Dataset contains product reviews taken from Amazon.com from many product types (domains). Some domains (books and dvds) have hundreds of thousands of reviews. Others (musical instruments) have only a few hundred. Reviews contain star ratings (1 to 5 stars) that can be converted into binary labels if needed. This page contains some descriptions about the data. If you have questions, please email Mark Dredze or John Blitzer. \n",
        "\n",
        "http://www.cs.jhu.edu/~mdredze/datasets/sentiment/"
      ]
    },
    {
      "cell_type": "markdown",
      "metadata": {
        "id": "QEqT0P0uFzVr",
        "colab_type": "raw"
      },
      "source": [
        "\"\"\"This script parse amazon books revies xml to a csv file\n",
        "parse_xml2csv()\n",
        "\"\"\"\n",
        "\n",
        "from tqdm import tqdm\n",
        "import csv\n",
        "\n",
        "def parse_xml2csv(): \n",
        "    dataset_file = './data/amazon_reviews/sorted_data/books/unlabeled.review'\n",
        "    output_file = './data/amazon_reviews/csv/books_reviews.csv'\n",
        "    \n",
        "    def _active_tag(tag):\n",
        "        if f'<{tag}>' in line:\n",
        "            rw[tag] = ''\n",
        "            return tag\n",
        "        elif f'</{tag}>' in line:\n",
        "            return '#end_tag#'\n",
        "    \n",
        "    # columns = ['product_name', 'rating', 'title', 'review_text']\n",
        "    columns = ['rating', 'review_text']\n",
        "    active_tag = None\n",
        "    \n",
        "    csvfile = open(output_file, 'w', newline='')\n",
        "    csvwriter = csv.DictWriter(csvfile, fieldnames=columns)\n",
        "    csvwriter.writeheader()\n",
        "    \n",
        "    with open(dataset_file, 'r', encoding='utf-8', errors='ignore') as fp:\n",
        "        for line in tqdm(fp):\n",
        "            if '<review>' in line:\n",
        "                rw = {}\n",
        "                continue\n",
        "            elif '</review>' in line:\n",
        "                csvwriter.writerow(rw)\n",
        "            \n",
        "            tags = map(_active_tag, columns)\n",
        "            tag = next((i for i in tags if i is not None), None)\n",
        "            \n",
        "            if tag == '#end_tag#':\n",
        "                rw[active_tag] = rw[active_tag].strip()\n",
        "                active_tag = None\n",
        "                continue\n",
        "            elif tag is not None:\n",
        "                active_tag = tag\n",
        "                continue\n",
        "            \n",
        "            if active_tag is not None:\n",
        "                rw[active_tag] += line\n",
        "    \n",
        "    csvfile.close()\n",
        "\n",
        "# Running the parser    \n",
        "parse_xml2csv()"
      ]
    },
    {
      "cell_type": "code",
      "metadata": {
        "id": "Cahir_nsFzVt",
        "colab_type": "code",
        "colab": {}
      },
      "source": [
        "csv_file = '../content/gdrive/My Drive/NLP-data/books_reviews.csv'\n",
        "df = pd.read_csv(csv_file)"
      ],
      "execution_count": 0,
      "outputs": []
    },
    {
      "cell_type": "code",
      "metadata": {
        "id": "DWrLHvq6FzV0",
        "colab_type": "code",
        "colab": {}
      },
      "source": [
        "df['rating'] = df['rating'].astype('category')"
      ],
      "execution_count": 0,
      "outputs": []
    },
    {
      "cell_type": "code",
      "metadata": {
        "id": "JrnWEzSDFzV7",
        "colab_type": "code",
        "outputId": "d9e9dcf4-d43c-4d25-d11b-ae83dc497173",
        "colab": {
          "base_uri": "https://localhost:8080/",
          "height": 136
        }
      },
      "source": [
        "df.info()"
      ],
      "execution_count": 0,
      "outputs": [
        {
          "output_type": "stream",
          "text": [
            "<class 'pandas.core.frame.DataFrame'>\n",
            "RangeIndex: 973194 entries, 0 to 973193\n",
            "Data columns (total 2 columns):\n",
            "rating         973194 non-null category\n",
            "review_text    973183 non-null object\n",
            "dtypes: category(1), object(1)\n",
            "memory usage: 8.4+ MB\n"
          ],
          "name": "stdout"
        }
      ]
    },
    {
      "cell_type": "code",
      "metadata": {
        "id": "cQDvumjKFzWF",
        "colab_type": "code",
        "outputId": "345846df-8154-48fc-9e1a-ca6a987b5eaa",
        "colab": {
          "base_uri": "https://localhost:8080/",
          "height": 359
        }
      },
      "source": [
        "df.head(10)"
      ],
      "execution_count": 0,
      "outputs": [
        {
          "output_type": "execute_result",
          "data": {
            "text/html": [
              "<div>\n",
              "<style scoped>\n",
              "    .dataframe tbody tr th:only-of-type {\n",
              "        vertical-align: middle;\n",
              "    }\n",
              "\n",
              "    .dataframe tbody tr th {\n",
              "        vertical-align: top;\n",
              "    }\n",
              "\n",
              "    .dataframe thead th {\n",
              "        text-align: right;\n",
              "    }\n",
              "</style>\n",
              "<table border=\"1\" class=\"dataframe\">\n",
              "  <thead>\n",
              "    <tr style=\"text-align: right;\">\n",
              "      <th></th>\n",
              "      <th>rating</th>\n",
              "      <th>review_text</th>\n",
              "    </tr>\n",
              "  </thead>\n",
              "  <tbody>\n",
              "    <tr>\n",
              "      <th>0</th>\n",
              "      <td>5.0</td>\n",
              "      <td>This all-Spanish handbook for parents with new...</td>\n",
              "    </tr>\n",
              "    <tr>\n",
              "      <th>1</th>\n",
              "      <td>5.0</td>\n",
              "      <td>McCarthy's writing and portrayal of Lester Bal...</td>\n",
              "    </tr>\n",
              "    <tr>\n",
              "      <th>2</th>\n",
              "      <td>2.0</td>\n",
              "      <td>Do you giggle uncontrollably when poking corps...</td>\n",
              "    </tr>\n",
              "    <tr>\n",
              "      <th>3</th>\n",
              "      <td>5.0</td>\n",
              "      <td>I was initiated into the world of Cormac McCar...</td>\n",
              "    </tr>\n",
              "    <tr>\n",
              "      <th>4</th>\n",
              "      <td>4.0</td>\n",
              "      <td>I cannot speak to the literary points in the n...</td>\n",
              "    </tr>\n",
              "    <tr>\n",
              "      <th>5</th>\n",
              "      <td>4.0</td>\n",
              "      <td>There is no denying the strain of Faulkner tha...</td>\n",
              "    </tr>\n",
              "    <tr>\n",
              "      <th>6</th>\n",
              "      <td>5.0</td>\n",
              "      <td>I have read sevral of McCarthy's other novels....</td>\n",
              "    </tr>\n",
              "    <tr>\n",
              "      <th>7</th>\n",
              "      <td>5.0</td>\n",
              "      <td>This is a gripping novel that probes the bread...</td>\n",
              "    </tr>\n",
              "    <tr>\n",
              "      <th>8</th>\n",
              "      <td>1.0</td>\n",
              "      <td>If you're considering buying the Peter Smith \"...</td>\n",
              "    </tr>\n",
              "    <tr>\n",
              "      <th>9</th>\n",
              "      <td>2.0</td>\n",
              "      <td>What I didn't realise when I ordered this is t...</td>\n",
              "    </tr>\n",
              "  </tbody>\n",
              "</table>\n",
              "</div>"
            ],
            "text/plain": [
              "  rating                                        review_text\n",
              "0    5.0  This all-Spanish handbook for parents with new...\n",
              "1    5.0  McCarthy's writing and portrayal of Lester Bal...\n",
              "2    2.0  Do you giggle uncontrollably when poking corps...\n",
              "3    5.0  I was initiated into the world of Cormac McCar...\n",
              "4    4.0  I cannot speak to the literary points in the n...\n",
              "5    4.0  There is no denying the strain of Faulkner tha...\n",
              "6    5.0  I have read sevral of McCarthy's other novels....\n",
              "7    5.0  This is a gripping novel that probes the bread...\n",
              "8    1.0  If you're considering buying the Peter Smith \"...\n",
              "9    2.0  What I didn't realise when I ordered this is t..."
            ]
          },
          "metadata": {
            "tags": []
          },
          "execution_count": 49
        }
      ]
    },
    {
      "cell_type": "code",
      "metadata": {
        "id": "_FqDWsvMc0JW",
        "colab_type": "code",
        "outputId": "7e1e1468-a039-49ad-c2b3-7b3b32dd49f7",
        "colab": {
          "base_uri": "https://localhost:8080/",
          "height": 459
        }
      },
      "source": [
        "sample = df[df['rating'] == 2].sample(1)\n",
        "pp.pprint(sample['review_text'].values[0])\n",
        "print('-'*100)\n",
        "print('Number of words: %d' % sample['review_text'].str.split().apply(len))\n",
        "print('Rating: %d stars' % sample['rating'].values[0])"
      ],
      "execution_count": 0,
      "outputs": [
        {
          "output_type": "stream",
          "text": [
            "(\"I must admit I only bought this because Allison DuBois' web site fires a \"\n",
            " \"broadside at the author. I had to know what had her all riled up. You don't \"\n",
            " \"need a 'gift' to see that it's probably annoyance that Dr Schwartz has \"\n",
            " 'successfully tied himself to her famous apron strings and made some tidy '\n",
            " \"coin from cashing in on her fame. I' be annoyed too, especially if I had \"\n",
            " \"written such a thoroughly disappointing book as Mrs Dubois' Don't Kiss Them \"\n",
            " \"Goodbye. Even with all her powers she couldn't 'see' the benefit of \"\n",
            " 'collaborating with a skilled writer. Dr Schwartz, on the other hand, has '\n",
            " \"teamed up with William L Simon who manages to maintain the reader's interest \"\n",
            " 'through a story that is stretched over far too many pages. Although I found '\n",
            " 'myself skimming at times I did read it through to the end. \\n'\n",
            " 'I hoped for more, a lot more. I found myself looking at the back cover '\n",
            " 'hoping for a free voucher for the rest of the book when it is written. No, '\n",
            " 'just a dust jacket with carefully chosen praise. \\n'\n",
            " 'I detected a hint of jealousy and desperation from Gary E Schwartz who seems '\n",
            " 'to believe he deserves more attention for his pseudo-scientific work than '\n",
            " 'those he believes have special abilities.\\n'\n",
            " 'Mr Schwartz does have a special gift himself though; the ability to wring '\n",
            " 'every last micro-drop of benefit from a former association with someone '\n",
            " 'immortalised by television. I have my doubts about how much his tests really '\n",
            " 'prove but I was willing to suspend my disbelief and go along for the ride. \\n'\n",
            " \"Here's a tip dear reader: even if you are psychic don't try to read too much \"\n",
            " \"into this book. It's just what it seems to be\")\n",
            "----------------------------------------------------------------------------------------------------\n",
            "Number of words: 293\n",
            "Rating: 2 stars\n"
          ],
          "name": "stdout"
        }
      ]
    },
    {
      "cell_type": "code",
      "metadata": {
        "hide_input": false,
        "id": "G6IPyFsgFzWM",
        "colab_type": "code",
        "outputId": "688315e7-c573-42dc-f621-f6e0d45db6d5",
        "colab": {
          "base_uri": "https://localhost:8080/",
          "height": 301
        }
      },
      "source": [
        "def plot_rating_dist(df, x='rating', title='Rating distribution', xlabel='stars', ylim=700000):\n",
        "    ax = sns.countplot(x=x, data=df)\n",
        "    ax.set_title(title)\n",
        "    ax.set_xlabel(xlabel)\n",
        "    for rect in ax.containers[0]:\n",
        "        tw = rect.get_width() / 2.\n",
        "        tx = rect.get_x() + tw\n",
        "        height = rect.get_height()\n",
        "        ty = 1.05 * height\n",
        "        ax.text(tx, ty, height, ha='center')\n",
        "\n",
        "    ax.set_ylim(0, ylim)\n",
        "    \n",
        "plot_rating_dist(df)"
      ],
      "execution_count": 0,
      "outputs": [
        {
          "output_type": "display_data",
          "data": {
            "image/png": "[encoded data removed]",
            "text/plain": [
              "<Figure size 432x288 with 1 Axes>"
            ]
          },
          "metadata": {
            "tags": []
          }
        }
      ]
    },
    {
      "cell_type": "code",
      "metadata": {
        "id": "7g_c6dlaFzWc",
        "colab_type": "code",
        "colab": {}
      },
      "source": [
        "def binary_labels(df, min_set=None):\n",
        " \n",
        "    # Cleanning data set\n",
        "    count = df['review_text'].str.len()\n",
        "    df = df[(count > 3) | (count < 4000)].copy()\n",
        "    \n",
        "    # Equilize dataset sample size\n",
        "    if min_set is None:\n",
        "        min_set = df['rating'].value_counts().min() * 4\n",
        "    \n",
        "    # Split rating 1.0, 2.0 as negative reviews\n",
        "    rating_1 = df[df['rating'] == 1.0].iloc[:min_set // 4]\n",
        "    rating_2 = df[df['rating'] == 2.0].iloc[:min_set // 4]\n",
        "    negative_reviews = pd.concat([rating_1, rating_2])\n",
        "    negative_reviews['label'] = 0\n",
        "    \n",
        "    # Split rating 4.0, 5.0 as positive reviews\n",
        "    rating_4 = df[df['rating'] == 4.0].iloc[:min_set // 4]\n",
        "    rating_5 = df[df['rating'] == 5.0].iloc[:min_set // 4]\n",
        "    positive_reviews = pd.concat([rating_4, rating_5])\n",
        "    positive_reviews['label'] = 1\n",
        "    \n",
        "    dataset = pd.concat([negative_reviews, positive_reviews])\n",
        "    dataset.sort_index(inplace=True)\n",
        "    \n",
        "    return dataset\n",
        "\n",
        "dataset = binary_labels(df,  min_set=50000)"
      ],
      "execution_count": 0,
      "outputs": []
    },
    {
      "cell_type": "code",
      "metadata": {
        "id": "AdrPisat0XDK",
        "colab_type": "code",
        "outputId": "5811129d-a20e-4194-9e73-8adeb1c9f421",
        "colab": {
          "base_uri": "https://localhost:8080/",
          "height": 301
        }
      },
      "source": [
        "plot_rating_dist(dataset, ylim=20000)"
      ],
      "execution_count": 0,
      "outputs": [
        {
          "output_type": "display_data",
          "data": {
            "image/png": "[encoded data removed]",
            "text/plain": [
              "<Figure size 432x288 with 1 Axes>"
            ]
          },
          "metadata": {
            "tags": []
          }
        }
      ]
    },
    {
      "cell_type": "code",
      "metadata": {
        "id": "7Zbbv7WLzMvi",
        "colab_type": "code",
        "outputId": "e49c0434-c798-48b9-c5cc-561a1a3bffff",
        "colab": {
          "base_uri": "https://localhost:8080/",
          "height": 335
        }
      },
      "source": [
        "texts = dataset['review_text'].astype(str)\n",
        "labels = dataset['label'].astype('int32')\n",
        "\n",
        "print('texts size: ', texts.size)\n",
        "print('labels size: ', labels.size)\n",
        "\n",
        "plot_rating_dist(pd.concat([texts, labels], axis=1), x='label', title='Equalized data set', xlabel='0-negative/1-positive', ylim=40000)"
      ],
      "execution_count": 0,
      "outputs": [
        {
          "output_type": "stream",
          "text": [
            "texts size:  50000\n",
            "labels size:  50000\n"
          ],
          "name": "stdout"
        },
        {
          "output_type": "display_data",
          "data": {
            "image/png": "[encoded data removed]",
            "text/plain": [
              "<Figure size 432x288 with 1 Axes>"
            ]
          },
          "metadata": {
            "tags": []
          }
        }
      ]
    },
    {
      "cell_type": "markdown",
      "metadata": {
        "id": "BLV2gM1dZ67f",
        "colab_type": "text"
      },
      "source": [
        "# Preprocessing Text data"
      ]
    },
    {
      "cell_type": "code",
      "metadata": {
        "id": "HA_fs3-R1tPU",
        "colab_type": "code",
        "colab": {}
      },
      "source": [
        "from keras.preprocessing.sequence import pad_sequences\n",
        "import numpy as np"
      ],
      "execution_count": 0,
      "outputs": []
    },
    {
      "cell_type": "code",
      "metadata": {
        "id": "8GChkxhaZ6YZ",
        "colab_type": "code",
        "colab": {}
      },
      "source": [
        "MAX_NUM_FEATURES = 20000\n",
        "NGRAN_RANGE = 1\n",
        "MAX_SEQUENCE_LENGTH = 400\n",
        "VALIDATION_SPLIT = .1"
      ],
      "execution_count": 0,
      "outputs": []
    },
    {
      "cell_type": "code",
      "metadata": {
        "id": "O9njD12SFzXe",
        "colab_type": "code",
        "outputId": "acda36f8-bc86-4bff-a841-3dbff90fe020",
        "colab": {
          "base_uri": "https://localhost:8080/",
          "height": 34
        }
      },
      "source": [
        "from keras.preprocessing import text\n",
        "\n",
        "tokenizer = text.Tokenizer(num_words=MAX_NUM_FEATURES)\n",
        "tokenizer.fit_on_texts(texts)\n",
        "sequences = tokenizer.texts_to_sequences(texts)\n",
        "word_index = tokenizer.word_index\n",
        "\n",
        "print('Found %s unique tokens.' % len(word_index))"
      ],
      "execution_count": 0,
      "outputs": [
        {
          "output_type": "stream",
          "text": [
            "Found 96740 unique tokens.\n"
          ],
          "name": "stdout"
        }
      ]
    },
    {
      "cell_type": "code",
      "metadata": {
        "id": "P7jVRWB8hOpA",
        "colab_type": "code",
        "outputId": "e358c707-d016-4779-b6f1-5e03720a5cc3",
        "colab": {
          "base_uri": "https://localhost:8080/",
          "height": 34
        }
      },
      "source": [
        "dump(tokenizer, '../content/gdrive/My Drive/NLP-data/tokenizer_fasttext.joblib')"
      ],
      "execution_count": 0,
      "outputs": [
        {
          "output_type": "execute_result",
          "data": {
            "text/plain": [
              "['../content/gdrive/My Drive/NLP-data/tokenizer_fasttext.joblib']"
            ]
          },
          "metadata": {
            "tags": []
          },
          "execution_count": 43
        }
      ]
    },
    {
      "cell_type": "code",
      "metadata": {
        "id": "YE83-AqRZ45M",
        "colab_type": "code",
        "outputId": "9a3be2cd-d19d-4303-d843-ec7f2f598193",
        "colab": {
          "base_uri": "https://localhost:8080/",
          "height": 51
        }
      },
      "source": [
        "print(texts[4164])\n",
        "pp.pprint(sequences[4164], width=200, compact=True)"
      ],
      "execution_count": 0,
      "outputs": [
        {
          "output_type": "stream",
          "text": [
            "thank you for a great book\n",
            "[1372, 19, 13, 5, 89, 12]\n"
          ],
          "name": "stdout"
        }
      ]
    },
    {
      "cell_type": "code",
      "metadata": {
        "id": "iznDQlsuaePV",
        "colab_type": "code",
        "outputId": "41bd37f9-9690-44e0-91a5-190576bc732b",
        "colab": {
          "base_uri": "https://localhost:8080/",
          "height": 51
        }
      },
      "source": [
        "print(len(sequences), 'sequences')\n",
        "print('Average train sequence length: %d' % np.mean(list(map(len, sequences))))"
      ],
      "execution_count": 0,
      "outputs": [
        {
          "output_type": "stream",
          "text": [
            "50000 sequences\n",
            "Average train sequence length: 168\n"
          ],
          "name": "stdout"
        }
      ]
    },
    {
      "cell_type": "code",
      "metadata": {
        "id": "6nAjBcorbrzl",
        "colab_type": "code",
        "colab": {}
      },
      "source": [
        "def create_ngram_set(input_list, ngram_value=2):\n",
        "    \"\"\"\n",
        "    Extract a set of n-grams from a list of integers.\n",
        "    >>> create_ngram_set([1, 4, 9, 4, 1, 4], ngram_value=2)\n",
        "    {(4, 9), (4, 1), (1, 4), (9, 4)}\n",
        "    >>> create_ngram_set([1, 4, 9, 4, 1, 4], ngram_value=3)\n",
        "    [(1, 4, 9), (4, 9, 4), (9, 4, 1), (4, 1, 4)]\n",
        "    \"\"\"\n",
        "    return set(zip(*[input_list[i:] for i in range(ngram_value)]))\n",
        "\n",
        "\n",
        "def add_ngram(sequences, token_indice, ngram_range=2):\n",
        "    \"\"\"\n",
        "    Augment the input list of list (sequences) by appending n-grams values.\n",
        "    Example: adding bi-gram\n",
        "    >>> sequences = [[1, 3, 4, 5], [1, 3, 7, 9, 2]]\n",
        "    >>> token_indice = {(1, 3): 1337, (9, 2): 42, (4, 5): 2017}\n",
        "    >>> add_ngram(sequences, token_indice, ngram_range=2)\n",
        "    [[1, 3, 4, 5, 1337, 2017], [1, 3, 7, 9, 2, 1337, 42]]\n",
        "    Example: adding tri-gram\n",
        "    >>> sequences = [[1, 3, 4, 5], [1, 3, 7, 9, 2]]\n",
        "    >>> token_indice = {(1, 3): 1337, (9, 2): 42, (4, 5): 2017, (7, 9, 2): 2018}\n",
        "    >>> add_ngram(sequences, token_indice, ngram_range=3)\n",
        "    [[1, 3, 4, 5, 1337, 2017], [1, 3, 7, 9, 2, 1337, 42, 2018]]\n",
        "    \"\"\"\n",
        "    new_sequences = []\n",
        "    for input_list in sequences:\n",
        "        new_list = input_list[:]\n",
        "        for ngram_value in range(2, ngram_range + 1):\n",
        "            for i in range(len(new_list) - ngram_value + 1):\n",
        "                ngram = tuple(new_list[i:i + ngram_value])\n",
        "                if ngram in token_indice:\n",
        "                    new_list.append(token_indice[ngram])\n",
        "        new_sequences.append(new_list)\n",
        "\n",
        "    return new_sequences"
      ],
      "execution_count": 0,
      "outputs": []
    },
    {
      "cell_type": "code",
      "metadata": {
        "id": "eN4W-TLD_Ybm",
        "colab_type": "code",
        "outputId": "26b86c1c-7546-4a11-a87b-b6ad394cb53f",
        "colab": {
          "base_uri": "https://localhost:8080/",
          "height": 34
        }
      },
      "source": [
        "len(sequences)"
      ],
      "execution_count": 0,
      "outputs": [
        {
          "output_type": "execute_result",
          "data": {
            "text/plain": [
              "50000"
            ]
          },
          "metadata": {
            "tags": []
          },
          "execution_count": 21
        }
      ]
    },
    {
      "cell_type": "code",
      "metadata": {
        "id": "QmFFojKsb7nV",
        "colab_type": "code",
        "outputId": "27072c84-5067-49ff-b692-f890805a05fd",
        "colab": {
          "base_uri": "https://localhost:8080/",
          "height": 68
        }
      },
      "source": [
        "if NGRAN_RANGE > 1:\n",
        "    ngram_set = set()\n",
        "    for input_list in sequences:\n",
        "        for i in range(2, NGRAN_RANGE + 1):\n",
        "            set_of_ngram = create_ngram_set(input_list, ngram_value=i)\n",
        "            ngram_set.update(set_of_ngram)\n",
        "    \n",
        "    # Dictionary mapping n-gram token to a unique integer.\n",
        "    # Integer values are greater than max_features in order\n",
        "    # to avoid collision with existing features.        \n",
        "    token_indice = {v: k + MAX_NUM_FEATURES for k, v in enumerate(ngram_set)}\n",
        "    indice_token = {token_indice[k]: k for k in token_indice}\n",
        "    \n",
        "    # Update MAX_NUM_FEATURES\n",
        "    MAX_NUM_FEATURES = np.max(list(indice_token.keys())) + 1\n",
        "    print('Update MAX_NUM_FEATURES %d' % MAX_NUM_FEATURES)\n",
        "    \n",
        "    # Augument sequences with the new features\n",
        "    sequences = add_ngram(sequences, token_indice, NGRAN_RANGE)\n",
        "    print(len(sequences), 'sequences')\n",
        "    print('Average train sequence length: %d' % np.mean(list(map(len, sequences))))"
      ],
      "execution_count": 0,
      "outputs": [
        {
          "output_type": "stream",
          "text": [
            "Update MAX_NUM_FEATURES 1248043\n",
            "50000 sequences\n",
            "Average train sequence length: 335\n"
          ],
          "name": "stdout"
        }
      ]
    },
    {
      "cell_type": "code",
      "metadata": {
        "id": "U5pwOVgkjTeb",
        "colab_type": "code",
        "outputId": "c255de50-bb77-441e-8457-c5d46a32ca7b",
        "colab": {
          "base_uri": "https://localhost:8080/",
          "height": 34
        }
      },
      "source": [
        "dump(token_indice, '../content/gdrive/My Drive/NLP-data/token_indice_fasttext.joblib')"
      ],
      "execution_count": 0,
      "outputs": [
        {
          "output_type": "execute_result",
          "data": {
            "text/plain": [
              "['../content/gdrive/My Drive/NLP-data/token_indice_fasttext.joblib']"
            ]
          },
          "metadata": {
            "tags": []
          },
          "execution_count": 23
        }
      ]
    },
    {
      "cell_type": "code",
      "metadata": {
        "id": "9Bo4PMALmb5C",
        "colab_type": "code",
        "colab": {}
      },
      "source": [
        "data = pad_sequences(sequences, maxlen=MAX_SEQUENCE_LENGTH)"
      ],
      "execution_count": 0,
      "outputs": []
    },
    {
      "cell_type": "code",
      "metadata": {
        "id": "ex8D5E-u5BL5",
        "colab_type": "code",
        "outputId": "4cd98919-5c5f-41cd-8b11-4ee07b8d779b",
        "colab": {
          "base_uri": "https://localhost:8080/",
          "height": 173
        }
      },
      "source": [
        "pp.pprint(data[0].tolist(), width=200, compact=True)"
      ],
      "execution_count": 0,
      "outputs": [
        {
          "output_type": "stream",
          "text": [
            "[0, 0, 0, 0, 0, 0, 0, 0, 0, 0, 0, 0, 0, 0, 0, 0, 0, 0, 0, 0, 0, 0, 0, 0, 0, 0, 0, 0, 0, 0, 0, 0, 0, 0, 0, 0, 0, 0, 0, 0, 0, 0, 0, 0, 0, 0, 0, 0, 0, 0, 0, 0, 0, 0, 0, 0, 0, 0, 0, 0, 0, 0, 0, 0, 0, 0,\n",
            " 0, 0, 0, 0, 0, 0, 0, 0, 0, 0, 0, 0, 0, 0, 0, 0, 0, 0, 0, 0, 0, 0, 0, 0, 0, 0, 0, 0, 0, 0, 0, 0, 0, 0, 0, 0, 0, 0, 0, 0, 0, 0, 0, 0, 0, 0, 0, 0, 0, 0, 0, 0, 0, 0, 0, 0, 0, 0, 0, 0, 0, 0, 0, 0, 0, 0,\n",
            " 0, 0, 0, 0, 0, 0, 0, 0, 0, 0, 0, 0, 0, 0, 0, 0, 0, 0, 0, 0, 0, 0, 0, 0, 0, 0, 0, 0, 0, 0, 0, 0, 0, 0, 0, 0, 0, 0, 0, 0, 0, 0, 0, 0, 0, 0, 0, 0, 0, 0, 0, 0, 0, 0, 0, 0, 0, 0, 0, 0, 0, 0, 0, 0, 0, 0,\n",
            " 0, 0, 0, 0, 0, 0, 0, 0, 0, 0, 0, 0, 0, 0, 0, 0, 0, 0, 0, 0, 0, 0, 0, 0, 0, 0, 0, 0, 0, 0, 0, 0, 0, 0, 0, 0, 0, 0, 0, 0, 0, 0, 0, 0, 0, 0, 0, 0, 0, 0, 0, 0, 0, 0, 0, 0, 0, 0, 0, 0, 0, 0, 0, 0, 0, 0,\n",
            " 0, 0, 0, 0, 0, 0, 0, 0, 0, 0, 0, 0, 0, 0, 0, 0, 0, 0, 0, 0, 0, 0, 0, 0, 0, 0, 0, 0, 0, 0, 0, 0, 0, 0, 0, 10, 32, 2483, 5241, 13, 689, 15, 104, 3224, 51, 1259, 1526, 13, 91, 1545, 30, 5, 3339, 882,\n",
            " 2337, 2445, 80, 7, 593, 1, 2483, 567, 536, 1526, 882, 171, 34, 5, 5170, 13, 689, 7, 1087, 391, 3, 112, 24, 5, 18785, 2, 91, 2483, 1690, 373, 15, 288, 663163, 120348, 293030, 1144636, 594834, 955630,\n",
            " 167040, 740248, 558822, 802284, 110713, 576882, 246529, 583087, 494018, 348710, 789007, 668818, 609333, 888380, 1054278, 411358, 716241, 1173482, 1233268, 706425, 805611, 1014330, 759701, 310491,\n",
            " 959699, 1026087, 1172839, 224643, 594834, 1114791, 191547, 1043269, 930575, 638975, 183474, 153176, 508137, 436053, 178697, 728986, 396818, 1130768, 1217758, 1014600]\n"
          ],
          "name": "stdout"
        }
      ]
    },
    {
      "cell_type": "code",
      "metadata": {
        "id": "FSglNAEfFzX8",
        "colab_type": "code",
        "colab": {}
      },
      "source": [
        "# Split the date into train and validation sets\n",
        "num_validation_samples = int(VALIDATION_SPLIT * data.shape[0])\n",
        "\n",
        "X_train = data[:-num_validation_samples]\n",
        "y_train = labels[:-num_validation_samples]\n",
        "X_val = data[-num_validation_samples:]\n",
        "y_val = labels[-num_validation_samples:]"
      ],
      "execution_count": 0,
      "outputs": []
    },
    {
      "cell_type": "code",
      "metadata": {
        "id": "tq8BMi7dFzYA",
        "colab_type": "code",
        "outputId": "26c3f7a6-3256-4c9b-ccdf-892e17cf8f44",
        "colab": {
          "base_uri": "https://localhost:8080/",
          "height": 85
        }
      },
      "source": [
        "print('X_train shape:', X_train.shape)\n",
        "print('X_val shape:', X_val.shape)\n",
        "print('y_train shape:', y_train.shape, 'type', y_train.dtype)\n",
        "print('y_val shape:', y_val.shape, 'type', y_val.dtype)"
      ],
      "execution_count": 0,
      "outputs": [
        {
          "output_type": "stream",
          "text": [
            "X_train shape: (45000, 400)\n",
            "X_val shape: (5000, 400)\n",
            "y_train shape: (45000,) type int32\n",
            "y_val shape: (5000,) type int32\n"
          ],
          "name": "stdout"
        }
      ]
    },
    {
      "cell_type": "markdown",
      "metadata": {
        "id": "EuMBxY94Cag-",
        "colab_type": "text"
      },
      "source": [
        "# Fasttext Model"
      ]
    },
    {
      "cell_type": "code",
      "metadata": {
        "id": "AQ71bMb8CfR8",
        "colab_type": "code",
        "colab": {}
      },
      "source": [
        "from keras.models import Sequential\n",
        "from keras.layers import Embedding, GlobalAveragePooling1D, Dense\n",
        "from keras.callbacks import ModelCheckpoint"
      ],
      "execution_count": 0,
      "outputs": []
    },
    {
      "cell_type": "code",
      "metadata": {
        "id": "O-7_D2rZC-wA",
        "colab_type": "code",
        "colab": {}
      },
      "source": [
        "def fasttext_model():\n",
        "    model = Sequential()\n",
        "    model.add(Embedding(input_dim=MAX_NUM_FEATURES,\n",
        "                        output_dim=100,\n",
        "                        input_length=MAX_SEQUENCE_LENGTH))\n",
        "    model.add(GlobalAveragePooling1D())\n",
        "    model.add(Dense(1, activation='sigmoid'))\n",
        "    return model"
      ],
      "execution_count": 0,
      "outputs": []
    },
    {
      "cell_type": "code",
      "metadata": {
        "id": "6hy0M0MEEnux",
        "colab_type": "code",
        "outputId": "ab487b7f-4f14-485e-ab4e-315da11946eb",
        "colab": {
          "base_uri": "https://localhost:8080/",
          "height": 238
        }
      },
      "source": [
        "model = fasttext_model()\n",
        "model.summary()"
      ],
      "execution_count": 0,
      "outputs": [
        {
          "output_type": "stream",
          "text": [
            "_________________________________________________________________\n",
            "Layer (type)                 Output Shape              Param #   \n",
            "=================================================================\n",
            "embedding_2 (Embedding)      (None, 400, 100)          2000000   \n",
            "_________________________________________________________________\n",
            "global_average_pooling1d_2 ( (None, 100)               0         \n",
            "_________________________________________________________________\n",
            "dense_2 (Dense)              (None, 1)                 101       \n",
            "=================================================================\n",
            "Total params: 2,000,101\n",
            "Trainable params: 2,000,101\n",
            "Non-trainable params: 0\n",
            "_________________________________________________________________\n"
          ],
          "name": "stdout"
        }
      ]
    },
    {
      "cell_type": "code",
      "metadata": {
        "id": "NGg-iVLcsjdS",
        "colab_type": "code",
        "colab": {}
      },
      "source": [
        "model.compile(loss='binary_crossentropy', optimizer='adam', metrics=['accuracy'])"
      ],
      "execution_count": 0,
      "outputs": []
    },
    {
      "cell_type": "code",
      "metadata": {
        "id": "GJ6EZIbGuN1w",
        "colab_type": "code",
        "outputId": "714aa6c1-f7cc-4f43-b03d-b7e8e246d171",
        "colab": {
          "base_uri": "https://localhost:8080/",
          "height": 748
        }
      },
      "source": [
        "%%time\n",
        "\n",
        "history = model.fit(X_train, y_train,\n",
        "                    batch_size=128,\n",
        "                    epochs=20,\n",
        "                    validation_data=(X_val, y_val))"
      ],
      "execution_count": 0,
      "outputs": [
        {
          "output_type": "stream",
          "text": [
            "Train on 45000 samples, validate on 5000 samples\n",
            "Epoch 1/20\n",
            "45000/45000 [==============================] - 23s 522us/step - loss: 0.1345 - acc: 0.9565 - val_loss: 0.3790 - val_acc: 0.8654\n",
            "Epoch 2/20\n",
            "45000/45000 [==============================] - 23s 509us/step - loss: 0.1269 - acc: 0.9591 - val_loss: 0.3561 - val_acc: 0.8776\n",
            "Epoch 3/20\n",
            "45000/45000 [==============================] - 23s 516us/step - loss: 0.1199 - acc: 0.9626 - val_loss: 0.3956 - val_acc: 0.8686\n",
            "Epoch 4/20\n",
            "45000/45000 [==============================] - 23s 505us/step - loss: 0.1144 - acc: 0.9632 - val_loss: 0.4152 - val_acc: 0.8620\n",
            "Epoch 5/20\n",
            "45000/45000 [==============================] - 23s 516us/step - loss: 0.1082 - acc: 0.9658 - val_loss: 0.4313 - val_acc: 0.8612\n",
            "Epoch 6/20\n",
            "45000/45000 [==============================] - 23s 520us/step - loss: 0.1025 - acc: 0.9678 - val_loss: 0.4149 - val_acc: 0.8650\n",
            "Epoch 7/20\n",
            "45000/45000 [==============================] - 23s 507us/step - loss: 0.0978 - acc: 0.9699 - val_loss: 0.5185 - val_acc: 0.8292\n",
            "Epoch 8/20\n",
            "45000/45000 [==============================] - 23s 510us/step - loss: 0.0931 - acc: 0.9709 - val_loss: 0.4491 - val_acc: 0.8608\n",
            "Epoch 9/20\n",
            "45000/45000 [==============================] - 23s 509us/step - loss: 0.0879 - acc: 0.9728 - val_loss: 0.4082 - val_acc: 0.8814\n",
            "Epoch 10/20\n",
            "45000/45000 [==============================] - 23s 513us/step - loss: 0.0835 - acc: 0.9742 - val_loss: 0.5369 - val_acc: 0.8418\n",
            "Epoch 11/20\n",
            "45000/45000 [==============================] - 23s 502us/step - loss: 0.0799 - acc: 0.9757 - val_loss: 0.5274 - val_acc: 0.8440\n",
            "Epoch 12/20\n",
            "45000/45000 [==============================] - 23s 509us/step - loss: 0.0758 - acc: 0.9772 - val_loss: 0.5189 - val_acc: 0.8516\n",
            "Epoch 13/20\n",
            "45000/45000 [==============================] - 23s 512us/step - loss: 0.0725 - acc: 0.9782 - val_loss: 0.4707 - val_acc: 0.8706\n",
            "Epoch 14/20\n",
            "45000/45000 [==============================] - 23s 516us/step - loss: 0.0695 - acc: 0.9796 - val_loss: 0.4745 - val_acc: 0.8754\n",
            "Epoch 15/20\n",
            "45000/45000 [==============================] - 23s 522us/step - loss: 0.0660 - acc: 0.9809 - val_loss: 0.5002 - val_acc: 0.8698\n",
            "Epoch 16/20\n",
            "45000/45000 [==============================] - 24s 528us/step - loss: 0.0634 - acc: 0.9815 - val_loss: 0.5023 - val_acc: 0.8700\n",
            "Epoch 17/20\n",
            "45000/45000 [==============================] - 23s 514us/step - loss: 0.0599 - acc: 0.9830 - val_loss: 0.6005 - val_acc: 0.8518\n",
            "Epoch 18/20\n",
            "45000/45000 [==============================] - 23s 506us/step - loss: 0.0575 - acc: 0.9839 - val_loss: 0.5299 - val_acc: 0.8676\n",
            "Epoch 19/20\n",
            "45000/45000 [==============================] - 23s 514us/step - loss: 0.0545 - acc: 0.9845 - val_loss: 0.5569 - val_acc: 0.8600\n",
            "Epoch 20/20\n",
            "45000/45000 [==============================] - 23s 512us/step - loss: 0.0519 - acc: 0.9856 - val_loss: 0.5115 - val_acc: 0.8786\n",
            "CPU times: user 9min 7s, sys: 2min 12s, total: 11min 19s\n",
            "Wall time: 7min 41s\n"
          ],
          "name": "stdout"
        }
      ]
    },
    {
      "cell_type": "code",
      "metadata": {
        "id": "qV91WT6sFzYc",
        "colab_type": "code",
        "colab": {}
      },
      "source": [
        "def plot_results(history):\n",
        "    # Plot training & validation accuracy values\n",
        "    plt.plot(history.history['acc'])\n",
        "    plt.plot(history.history['val_acc'])\n",
        "    plt.title('Model accuracy')\n",
        "    plt.ylabel('Accuracy')\n",
        "    plt.xlabel('Epoch')\n",
        "    plt.legend(['Train', 'Test'], loc='upper left')\n",
        "    plt.show()\n",
        "\n",
        "    # Plot training & validation loss values\n",
        "    plt.plot(history.history['loss'])\n",
        "    plt.plot(history.history['val_loss'])\n",
        "    plt.title('Model loss')\n",
        "    plt.ylabel('Loss')\n",
        "    plt.xlabel('Epoch')\n",
        "    plt.legend(['Train', 'Test'], loc='upper left')\n",
        "    plt.show()"
      ],
      "execution_count": 0,
      "outputs": []
    },
    {
      "cell_type": "code",
      "metadata": {
        "id": "8p-D-DIfud1J",
        "colab_type": "code",
        "outputId": "f3fe42c7-57a0-4686-a0d1-50854f59a428",
        "colab": {
          "base_uri": "https://localhost:8080/",
          "height": 585
        }
      },
      "source": [
        "plot_results(history)"
      ],
      "execution_count": 0,
      "outputs": [
        {
          "output_type": "display_data",
          "data": {
            "image/png": "[encoded data removed]",
            "text/plain": [
              "<Figure size 432x288 with 1 Axes>"
            ]
          },
          "metadata": {
            "tags": []
          }
        },
        {
          "output_type": "display_data",
          "data": {
            "image/png": "[encoded data removed]",
            "text/plain": [
              "<Figure size 432x288 with 1 Axes>"
            ]
          },
          "metadata": {
            "tags": []
          }
        }
      ]
    },
    {
      "cell_type": "code",
      "metadata": {
        "id": "jfJcddVL1MG2",
        "colab_type": "code",
        "outputId": "4bdf1b11-190b-4e50-8ef5-e55c7e27a64f",
        "colab": {
          "base_uri": "https://localhost:8080/",
          "height": 34
        }
      },
      "source": [
        "model.save(filepath='../content/gdrive/My Drive/NLP-data/Fasttext_ng1_100emb_model_weights_last_epoch.hdf5')\n",
        "print('DONE')"
      ],
      "execution_count": 0,
      "outputs": [
        {
          "output_type": "stream",
          "text": [
            "DONE\n"
          ],
          "name": "stdout"
        }
      ]
    }
  ]
}