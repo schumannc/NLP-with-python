{
  "nbformat": 4,
  "nbformat_minor": 0,
  "metadata": {
    "colab": {
      "name": "Test Models (LSTM, CNN, Fasttext).ipynb",
      "version": "0.3.2",
      "provenance": [],
      "collapsed_sections": []
    },
    "kernelspec": {
      "name": "python3",
      "display_name": "Python 3"
    },
    "accelerator": "GPU"
  },
  "cells": [
    {
      "cell_type": "code",
      "metadata": {
        "id": "gymNbftQbA3W",
        "colab_type": "code",
        "colab": {}
      },
      "source": [
        "import pandas as pd\n",
        "import seaborn as sns\n",
        "import matplotlib.pyplot as plt\n",
        "sns.set()\n",
        "\n",
        "import pprint as pp\n",
        "from joblib import dump, load\n",
        "\n",
        "from sklearn.metrics import accuracy_score"
      ],
      "execution_count": 0,
      "outputs": []
    },
    {
      "cell_type": "code",
      "metadata": {
        "id": "-nketgKobPqv",
        "colab_type": "code",
        "outputId": "ff13ba68-f966-4628-f504-4df2c44e286b",
        "colab": {
          "base_uri": "https://localhost:8080/",
          "height": 34
        }
      },
      "source": [
        "from google.colab import drive\n",
        "drive.mount('/content/gdrive')"
      ],
      "execution_count": 0,
      "outputs": [
        {
          "output_type": "stream",
          "text": [
            "Drive already mounted at /content/gdrive; to attempt to forcibly remount, call drive.mount(\"/content/gdrive\", force_remount=True).\n"
          ],
          "name": "stdout"
        }
      ]
    },
    {
      "cell_type": "code",
      "metadata": {
        "id": "qMu75VuSbZZj",
        "colab_type": "code",
        "colab": {}
      },
      "source": [
        "csv_file = '../content/gdrive/My Drive/NLP-data/books_reviews.csv'\n",
        "df = pd.read_csv(csv_file)"
      ],
      "execution_count": 0,
      "outputs": []
    },
    {
      "cell_type": "code",
      "metadata": {
        "id": "nOJynN7cbdoe",
        "colab_type": "code",
        "colab": {}
      },
      "source": [
        "df['rating'] = df['rating'].astype('category')"
      ],
      "execution_count": 0,
      "outputs": []
    },
    {
      "cell_type": "code",
      "metadata": {
        "id": "9VhTA4By4_vg",
        "colab_type": "code",
        "colab": {}
      },
      "source": [
        "def binary_labels(df, min_set=None, avoid_index=None):\n",
        " \n",
        "    # Cleanning data set\n",
        "    count = df['review_text'].str.len()\n",
        "    df = df[(count > 3) | (count < 4000)].copy()\n",
        "    \n",
        "    if avoid_index is not None:\n",
        "        df = df[~df.index.isin(avoid_index)].copy()\n",
        "    \n",
        "    # Equilize dataset sample size\n",
        "    if min_set is None:\n",
        "        min_set = df['rating'].value_counts().min() * 4\n",
        "    \n",
        "    # Split rating 1.0, 2.0 as negative reviews\n",
        "    rating_1 = df[df['rating'] == 1.0].iloc[:min_set // 4]\n",
        "    rating_2 = df[df['rating'] == 2.0].iloc[:min_set // 4]\n",
        "    negative_reviews = pd.concat([rating_1, rating_2])\n",
        "    negative_reviews['label'] = 0\n",
        "    \n",
        "    # Split rating 4.0, 5.0 as positive reviews\n",
        "    rating_4 = df[df['rating'] == 4.0].iloc[:min_set // 4]\n",
        "    rating_5 = df[df['rating'] == 5.0].iloc[:min_set // 4]\n",
        "    positive_reviews = pd.concat([rating_4, rating_5])\n",
        "    positive_reviews['label'] = 1\n",
        "    \n",
        "    dataset = pd.concat([negative_reviews, positive_reviews])\n",
        "    dataset.sort_index(inplace=True)\n",
        "    \n",
        "    return dataset\n",
        "\n",
        "avoid_index = load('../content/gdrive/My Drive/NLP-data/dataset_index.joblib')\n",
        "unseen_dataset = binary_labels(df,  min_set=50000, avoid_index=avoid_index)\n",
        "training_dataset = binary_labels(df,  min_set=50000)[:45000].copy()"
      ],
      "execution_count": 0,
      "outputs": []
    },
    {
      "cell_type": "code",
      "metadata": {
        "id": "T2ge1uYJ5_Xd",
        "colab_type": "code",
        "outputId": "6eae0829-9b15-48e5-f8b5-053afcc0c815",
        "colab": {
          "base_uri": "https://localhost:8080/",
          "height": 301
        }
      },
      "source": [
        "def plot_rating_dist(df, x='rating', title='Rating distribution', xlabel='stars', ylim=700000):\n",
        "    ax = sns.countplot(x=x, data=df)\n",
        "    ax.set_title(title)\n",
        "    ax.set_xlabel(xlabel)\n",
        "    for rect in ax.containers[0]:\n",
        "        tw = rect.get_width() / 2.\n",
        "        tx = rect.get_x() + tw\n",
        "        height = rect.get_height()\n",
        "        ty = 1.05 * height\n",
        "        ax.text(tx, ty, height, ha='center')\n",
        "\n",
        "    ax.set_ylim(0, ylim)\n",
        "    \n",
        "plot_rating_dist(unseen_dataset, ylim=20000)"
      ],
      "execution_count": 0,
      "outputs": [
        {
          "output_type": "display_data",
          "data": {
            "image/png": "[encoded data removed]",
            "text/plain": [
              "<Figure size 432x288 with 1 Axes>"
            ]
          },
          "metadata": {
            "tags": []
          }
        }
      ]
    },
    {
      "cell_type": "code",
      "metadata": {
        "id": "JAF9T-q0cOW9",
        "colab_type": "code",
        "outputId": "cdf48446-7fc9-44ab-a988-71cc0cb53a38",
        "colab": {
          "base_uri": "https://localhost:8080/",
          "height": 71
        }
      },
      "source": [
        "# load models\n",
        "from keras.models import load_model\n",
        "from collections import defaultdict\n",
        "\n",
        "model = defaultdict(dict)\n",
        "\n",
        "model['CNN_01']['model'] = load_model('../content/gdrive/My Drive/NLP-data/CNN_model_weights_last_epoch.hdf5')\n",
        "model['CNN_01']['embedding'] = 'glove.6B.100d'\n",
        "model['CNN_02']['model']  = load_model('../content/gdrive/My Drive/NLP-data/CNN_no_embedding_last_epoch.hdf5')\n",
        "model['CNN_02']['embedding'] = None\n",
        "model['FASTTEXT_NG1']['model']  = load_model('../content/gdrive/My Drive/NLP-data/Fasttext_ng1_100emb_model_weights_last_epoch.hdf5')\n",
        "model['FASTTEXT_NG1']['embedding'] = None\n",
        "model['FASTTEXT_NG2']['model']  = load_model('../content/gdrive/My Drive/NLP-data/Fasttext_ng2_100emb_model_weights_last_epoch.hdf5')\n",
        "model['FASTTEXT_NG2']['embedding'] = None\n",
        "model['LSTM_01']['model']  = load_model('../content/gdrive/My Drive/NLP-data/LSTM_model_weights_last_epoch.hdf5')\n",
        "model['LSTM_01']['embedding'] = 'glove.6B.100d'\n",
        "model['LSTM_02']['model']  = load_model('../content/gdrive/My Drive/NLP-data/LSTM_no_embedding_last_epoch.hdf5')\n",
        "model['LSTM_02']['embedding'] = None"
      ],
      "execution_count": 0,
      "outputs": [
        {
          "output_type": "stream",
          "text": [
            "/usr/local/lib/python3.6/dist-packages/tensorflow/python/ops/gradients_util.py:90: UserWarning: Converting sparse IndexedSlices to a dense Tensor with 124804300 elements. This may consume a large amount of memory.\n",
            "  num_elements)\n"
          ],
          "name": "stderr"
        }
      ]
    },
    {
      "cell_type": "code",
      "metadata": {
        "id": "iRgjZp9WiYBF",
        "colab_type": "code",
        "colab": {}
      },
      "source": [
        "def add_ngram(sequences, token_indice, ngram_range=2):\n",
        "    \"\"\"\n",
        "    Augment the input list of list (sequences) by appending n-grams values.\n",
        "    Example: adding bi-gram\n",
        "    >>> sequences = [[1, 3, 4, 5], [1, 3, 7, 9, 2]]\n",
        "    >>> token_indice = {(1, 3): 1337, (9, 2): 42, (4, 5): 2017}\n",
        "    >>> add_ngram(sequences, token_indice, ngram_range=2)\n",
        "    [[1, 3, 4, 5, 1337, 2017], [1, 3, 7, 9, 2, 1337, 42]]\n",
        "    Example: adding tri-gram\n",
        "    >>> sequences = [[1, 3, 4, 5], [1, 3, 7, 9, 2]]\n",
        "    >>> token_indice = {(1, 3): 1337, (9, 2): 42, (4, 5): 2017, (7, 9, 2): 2018}\n",
        "    >>> add_ngram(sequences, token_indice, ngram_range=3)\n",
        "    [[1, 3, 4, 5, 1337, 2017], [1, 3, 7, 9, 2, 1337, 42, 2018]]\n",
        "    \"\"\"\n",
        "    new_sequences = []\n",
        "    for input_list in sequences:\n",
        "        new_list = input_list[:]\n",
        "        for ngram_value in range(2, ngram_range + 1):\n",
        "            for i in range(len(new_list) - ngram_value + 1):\n",
        "                ngram = tuple(new_list[i:i + ngram_value])\n",
        "                if ngram in token_indice:\n",
        "                    new_list.append(token_indice[ngram])\n",
        "        new_sequences.append(new_list)\n",
        "\n",
        "    return new_sequences"
      ],
      "execution_count": 0,
      "outputs": []
    },
    {
      "cell_type": "code",
      "metadata": {
        "id": "t9XYuuY0fdy0",
        "colab_type": "code",
        "colab": {}
      },
      "source": [
        "from keras.preprocessing.sequence import pad_sequences\n",
        "\n",
        "def prepare_input(df, lstm_cnn=False, ngram=1):\n",
        "    print('loading tokenizer...')\n",
        "    \n",
        "    if lstm_cnn is True:\n",
        "        tokenizer = load('../content/gdrive/My Drive/NLP-data/tokenizer_lstm_cnn.joblib')\n",
        "    else:\n",
        "        tokenizer = load('../content/gdrive/My Drive/NLP-data/tokenizer_fasttext.joblib')\n",
        "    \n",
        "    print('word_index size:', len(tokenizer.word_index))\n",
        "    token_indice = load('../content/gdrive/My Drive/NLP-data/token_indice_fasttext.joblib')\n",
        "    \n",
        "    print('processing sequences...')\n",
        "    sequences = tokenizer.texts_to_sequences(df['review_text'])\n",
        "    \n",
        "    if ngram > 1:\n",
        "        sequences = add_ngram(sequences, token_indice, ngram)\n",
        "    \n",
        "    print('padding sequences...')\n",
        "    data = pad_sequences(sequences, maxlen=400)\n",
        "    return data"
      ],
      "execution_count": 0,
      "outputs": []
    },
    {
      "cell_type": "code",
      "metadata": {
        "id": "kQbLKqo7AByl",
        "colab_type": "code",
        "outputId": "2041078c-ef58-4171-a2f9-ef26570bb39c",
        "colab": {
          "base_uri": "https://localhost:8080/",
          "height": 459
        }
      },
      "source": [
        "%%time\n",
        "\n",
        "lstm_cnn_trainning = prepare_input(training_dataset, lstm_cnn=True, ngram=1)\n",
        "lstm_cnn_unseen = prepare_input(unseen_dataset, lstm_cnn=True, ngram=1)\n",
        "\n",
        "fasttext_ng1_training = prepare_input(training_dataset, lstm_cnn=False, ngram=1)\n",
        "fasttext_ng1_unseen = prepare_input(unseen_dataset, lstm_cnn=False, ngram=1)\n",
        "\n",
        "fasttext_ng2_training = prepare_input(training_dataset, lstm_cnn=False, ngram=2)\n",
        "fasttext_ng2_unseen = prepare_input(unseen_dataset, lstm_cnn=False, ngram=2)\n",
        "\n",
        "model['CNN_01']['training'] = lstm_cnn_trainning\n",
        "model['CNN_01']['unseen'] = lstm_cnn_unseen\n",
        "model['CNN_02']['training'] = lstm_cnn_trainning\n",
        "model['CNN_02']['unseen'] = lstm_cnn_unseen\n",
        "model['FASTTEXT_NG1']['training'] = fasttext_ng1_training\n",
        "model['FASTTEXT_NG1']['unseen'] = fasttext_ng1_unseen\n",
        "model['FASTTEXT_NG2']['training'] = fasttext_ng2_training\n",
        "model['FASTTEXT_NG2']['unseen'] = fasttext_ng2_unseen\n",
        "model['LSTM_01']['training'] = lstm_cnn_trainning\n",
        "model['LSTM_01']['unseen'] = lstm_cnn_unseen\n",
        "model['LSTM_02']['training'] = lstm_cnn_trainning\n",
        "model['LSTM_02']['unseen'] = lstm_cnn_unseen"
      ],
      "execution_count": 0,
      "outputs": [
        {
          "output_type": "stream",
          "text": [
            "loading tokenizer...\n",
            "word_index size: 87719\n",
            "processing sequences...\n",
            "padding sequences...\n",
            "loading tokenizer...\n",
            "word_index size: 87719\n",
            "processing sequences...\n",
            "padding sequences...\n",
            "loading tokenizer...\n",
            "word_index size: 96740\n",
            "processing sequences...\n",
            "padding sequences...\n",
            "loading tokenizer...\n",
            "word_index size: 96740\n",
            "processing sequences...\n",
            "padding sequences...\n",
            "loading tokenizer...\n",
            "word_index size: 96740\n",
            "processing sequences...\n",
            "padding sequences...\n",
            "loading tokenizer...\n",
            "word_index size: 96740\n",
            "processing sequences...\n",
            "padding sequences...\n",
            "CPU times: user 1min 42s, sys: 857 ms, total: 1min 43s\n",
            "Wall time: 1min 43s\n"
          ],
          "name": "stdout"
        }
      ]
    },
    {
      "cell_type": "code",
      "metadata": {
        "id": "VWs7rtQkfLuJ",
        "colab_type": "code",
        "outputId": "f647e51b-8acc-4c8c-ebf3-81c66f1295d8",
        "colab": {
          "base_uri": "https://localhost:8080/",
          "height": 629
        }
      },
      "source": [
        "for name in list(model.keys()):\n",
        "    print(name)\n",
        "    print('training data')\n",
        "    predict_training = model[name]['model'].predict(model[name]['training']).round()\n",
        "    print('unseen data')\n",
        "    predict_unseen = model[name]['model'].predict(model[name]['unseen']).round()\n",
        "    print('getting scores')\n",
        "    training_score = accuracy_score(training_dataset['label'], predict_training)\n",
        "    unseen_score = accuracy_score(unseen_dataset['label'], predict_unseen)\n",
        "    model[name]['training score'] = training_score\n",
        "    print(name, 'training score', f'{training_score * 100:.1f}%')\n",
        "    model[name]['unseen score'] = unseen_score\n",
        "    print(name, 'unseen score', f'{unseen_score * 100:.1f}%')"
      ],
      "execution_count": 0,
      "outputs": [
        {
          "output_type": "stream",
          "text": [
            "CNN_01\n",
            "training data\n",
            "unseen data\n",
            "getting scores\n",
            "CNN_01 training score 95.1%\n",
            "CNN_01 unseen score 89.5%\n",
            "CNN_02\n",
            "training data\n",
            "unseen data\n",
            "getting scores\n",
            "CNN_02 training score 99.4%\n",
            "CNN_02 unseen score 92.4%\n",
            "FASTTEXT_NG1\n",
            "training data\n",
            "unseen data\n",
            "getting scores\n",
            "FASTTEXT_NG1 training score 98.6%\n",
            "FASTTEXT_NG1 unseen score 92.3%\n",
            "FASTTEXT_NG2\n",
            "training data\n",
            "unseen data\n",
            "getting scores\n",
            "FASTTEXT_NG2 training score 99.8%\n",
            "FASTTEXT_NG2 unseen score 95.0%\n",
            "LSTM_01\n",
            "training data\n",
            "unseen data\n",
            "getting scores\n",
            "LSTM_01 training score 96.5%\n",
            "LSTM_01 unseen score 92.4%\n",
            "LSTM_02\n",
            "training data\n",
            "unseen data\n",
            "getting scores\n",
            "LSTM_02 training score 99.6%\n",
            "LSTM_02 unseen score 91.4%\n"
          ],
          "name": "stdout"
        }
      ]
    },
    {
      "cell_type": "code",
      "metadata": {
        "id": "lT5HmpvQmtJr",
        "colab_type": "code",
        "colab": {}
      },
      "source": [
        "results = pd.DataFrame()\n",
        "results['model'] = list(model.keys())\n",
        "results['embeddings'] = [v['embedding'] for _, v in model.items()]\n",
        "results['training score'] = [v['training score'] for _, v in model.items()]\n",
        "results['unseen score'] = [v['unseen score'] for _, v in model.items()]"
      ],
      "execution_count": 0,
      "outputs": []
    },
    {
      "cell_type": "code",
      "metadata": {
        "id": "pE8L2hdDidnq",
        "colab_type": "code",
        "colab": {}
      },
      "source": [
        "results['training score'] = results['training score'].apply(lambda x: f'{x * 100:.1f}%')\n",
        "results['unseen score'] = results['unseen score'].apply(lambda x: f'{x * 100:.1f}%')"
      ],
      "execution_count": 0,
      "outputs": []
    },
    {
      "cell_type": "code",
      "metadata": {
        "id": "5nsbW_RQm78l",
        "colab_type": "code",
        "outputId": "cc284262-5e2d-4ef3-c777-1410def2a636",
        "colab": {
          "base_uri": "https://localhost:8080/",
          "height": 266
        }
      },
      "source": [
        "results.set_index('model')"
      ],
      "execution_count": 0,
      "outputs": [
        {
          "output_type": "execute_result",
          "data": {
            "text/html": [
              "<div>\n",
              "<style scoped>\n",
              "    .dataframe tbody tr th:only-of-type {\n",
              "        vertical-align: middle;\n",
              "    }\n",
              "\n",
              "    .dataframe tbody tr th {\n",
              "        vertical-align: top;\n",
              "    }\n",
              "\n",
              "    .dataframe thead th {\n",
              "        text-align: right;\n",
              "    }\n",
              "</style>\n",
              "<table border=\"1\" class=\"dataframe\">\n",
              "  <thead>\n",
              "    <tr style=\"text-align: right;\">\n",
              "      <th></th>\n",
              "      <th>embeddings</th>\n",
              "      <th>training score</th>\n",
              "      <th>unseen score</th>\n",
              "    </tr>\n",
              "    <tr>\n",
              "      <th>model</th>\n",
              "      <th></th>\n",
              "      <th></th>\n",
              "      <th></th>\n",
              "    </tr>\n",
              "  </thead>\n",
              "  <tbody>\n",
              "    <tr>\n",
              "      <th>CNN_01</th>\n",
              "      <td>glove.6B.100d</td>\n",
              "      <td>95.1%</td>\n",
              "      <td>89.5%</td>\n",
              "    </tr>\n",
              "    <tr>\n",
              "      <th>CNN_02</th>\n",
              "      <td>None</td>\n",
              "      <td>99.4%</td>\n",
              "      <td>92.4%</td>\n",
              "    </tr>\n",
              "    <tr>\n",
              "      <th>FASTTEXT_NG1</th>\n",
              "      <td>None</td>\n",
              "      <td>98.6%</td>\n",
              "      <td>92.3%</td>\n",
              "    </tr>\n",
              "    <tr>\n",
              "      <th>FASTTEXT_NG2</th>\n",
              "      <td>None</td>\n",
              "      <td>99.8%</td>\n",
              "      <td>95.0%</td>\n",
              "    </tr>\n",
              "    <tr>\n",
              "      <th>LSTM_01</th>\n",
              "      <td>glove.6B.100d</td>\n",
              "      <td>96.5%</td>\n",
              "      <td>92.4%</td>\n",
              "    </tr>\n",
              "    <tr>\n",
              "      <th>LSTM_02</th>\n",
              "      <td>None</td>\n",
              "      <td>99.6%</td>\n",
              "      <td>91.4%</td>\n",
              "    </tr>\n",
              "  </tbody>\n",
              "</table>\n",
              "</div>"
            ],
            "text/plain": [
              "                 embeddings training score unseen score\n",
              "model                                                  \n",
              "CNN_01        glove.6B.100d          95.1%        89.5%\n",
              "CNN_02                 None          99.4%        92.4%\n",
              "FASTTEXT_NG1           None          98.6%        92.3%\n",
              "FASTTEXT_NG2           None          99.8%        95.0%\n",
              "LSTM_01       glove.6B.100d          96.5%        92.4%\n",
              "LSTM_02                None          99.6%        91.4%"
            ]
          },
          "metadata": {
            "tags": []
          },
          "execution_count": 34
        }
      ]
    },
    {
      "cell_type": "code",
      "metadata": {
        "id": "xT_UepDSmvaI",
        "colab_type": "code",
        "colab": {}
      },
      "source": [
        ""
      ],
      "execution_count": 0,
      "outputs": []
    }
  ]
}